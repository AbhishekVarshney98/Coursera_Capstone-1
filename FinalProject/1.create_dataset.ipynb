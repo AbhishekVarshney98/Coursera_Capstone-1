{
 "cells": [
  {
   "cell_type": "markdown",
   "metadata": {},
   "source": [
    "# Creating a World Cities dataset"
   ]
  },
  {
   "cell_type": "markdown",
   "metadata": {},
   "source": [
    "The wikipedia page [List of largest cities](https://en.wikipedia.org/wiki/List_of_largest_cities) has a list of the largest cities in the world.  \n",
    "We are interested in table that contains the actual cities, and want the cityname, the nation, and its city proper population. "
   ]
  },
  {
   "cell_type": "markdown",
   "metadata": {},
   "source": [
    "In [Section 2](#2.-Scrape-list-of-largest-cities-from-Wikipedia), we use urllib to fetch the page, then BeautifulSoup to parse it and find the first (and only) sortable table.  \n",
    "We also scrape the URL referencing the individual cities' pages."
   ]
  },
  {
   "cell_type": "markdown",
   "metadata": {},
   "source": [
    "In [Section 3](#3.-Adding-geopositioning-data) we scrape the wikipedia page for every individual city in order to get the cities geographic coordinates.  \n",
    "In theory we could use this step to grab more information, like population density. However, since we want to demonstrate the use of the Foursquare API, we will not use such data."
   ]
  },
  {
   "cell_type": "markdown",
   "metadata": {},
   "source": [
    "In [Section 4](#4.-Getting-more-information-from-Foursquare) we use the Foursquare API to learn more about these cities. \n",
    "Specifically we ask for top recommendations in those cities, to get an idea of what is popular."
   ]
  },
  {
   "cell_type": "markdown",
   "metadata": {},
   "source": [
    "In [Section 5](#5.-Saving-the-dataframes) we export the created dataframe so we can import it in other notebooks."
   ]
  },
  {
   "cell_type": "markdown",
   "metadata": {},
   "source": [
    "## 1. Imports and such things"
   ]
  },
  {
   "cell_type": "markdown",
   "metadata": {},
   "source": [
    "We use the following libraries to fetch and parse html pages, and to interact with the Foursquare API."
   ]
  },
  {
   "cell_type": "code",
   "execution_count": 1,
   "metadata": {},
   "outputs": [],
   "source": [
    "import urllib.request\n",
    "from bs4 import BeautifulSoup\n",
    "import requests"
   ]
  },
  {
   "cell_type": "markdown",
   "metadata": {},
   "source": [
    "We use regular expressions, e.g. to extract population count and city coordinates from scraped webpages"
   ]
  },
  {
   "cell_type": "code",
   "execution_count": 2,
   "metadata": {},
   "outputs": [],
   "source": [
    "import re"
   ]
  },
  {
   "cell_type": "markdown",
   "metadata": {},
   "source": [
    "We use Pandas for building the dataframe."
   ]
  },
  {
   "cell_type": "code",
   "execution_count": 3,
   "metadata": {},
   "outputs": [],
   "source": [
    "import pandas as pd"
   ]
  },
  {
   "cell_type": "markdown",
   "metadata": {},
   "source": [
    "## 2. Scrape list of largest cities from Wikipedia"
   ]
  },
  {
   "cell_type": "markdown",
   "metadata": {},
   "source": [
    "The following code fetches a Wikipedia page."
   ]
  },
  {
   "cell_type": "code",
   "execution_count": 4,
   "metadata": {},
   "outputs": [],
   "source": [
    "# location of the wikipedia article\n",
    "url = \"https://en.wikipedia.org/wiki/List_of_largest_cities\"\n",
    "\n",
    "# fetch the article\n",
    "req = urllib.request.urlopen(url)\n",
    "article = req.read().decode()"
   ]
  },
  {
   "cell_type": "markdown",
   "metadata": {},
   "source": [
    "We use BeautifulSoup to parse the obtained HTML, and find the first sortable table. This is the table of Largest cities that dominates the Wikipedia article."
   ]
  },
  {
   "cell_type": "code",
   "execution_count": 5,
   "metadata": {},
   "outputs": [],
   "source": [
    "# parse with BeautifulSoup and find the first sortable table\n",
    "soup = BeautifulSoup(article, 'html.parser')\n",
    "table = soup.find('table', class_='sortable')"
   ]
  },
  {
   "cell_type": "markdown",
   "metadata": {},
   "source": [
    "We create a new Pandas dataframe to hold our cities. We will also save its nation, its population count, and its URL."
   ]
  },
  {
   "cell_type": "code",
   "execution_count": 6,
   "metadata": {},
   "outputs": [
    {
     "data": {
      "text/plain": [
       "Series([], Name: Population, dtype: int32)"
      ]
     },
     "execution_count": 6,
     "metadata": {},
     "output_type": "execute_result"
    }
   ],
   "source": [
    "# create an empty DataFrame\n",
    "cols=[\"City\", \"Nation\", \"Population\", \"URL\"]\n",
    "df_cities = pd.DataFrame(columns=cols)\n",
    "df_cities['Population'].astype(int)"
   ]
  },
  {
   "cell_type": "markdown",
   "metadata": {},
   "source": [
    "We can now traverse through the entire table and append the required data to our dataframe"
   ]
  },
  {
   "cell_type": "code",
   "execution_count": 7,
   "metadata": {},
   "outputs": [],
   "source": [
    "# iterate trough all the rows in the table:\n",
    "for tr in table.find_all('tr'):\n",
    "    tds = tr.find_all('td')\n",
    "    if not tds:\n",
    "        continue                            # skips first row with headings\n",
    "    nation = tds[0].find('a').string        # first td column contains nation   \n",
    "    try:\n",
    "        pop = int(re.compile(r'\\[.*\\]').sub(\"\",tds[2].text).replace(',',''))  # rough but working way to parse the population count\n",
    "    except ValueError:\n",
    "        pop = 0                             # but not every city has a population count\n",
    "    city_a = tr.find('th').find('a')        # the first column contains th tag and contains the <a> link to the city\n",
    "    city = city_a.string\n",
    "    url = \"https://en.wikipedia.org\" + city_a['href']\n",
    "    df_cities = df_cities.append({\n",
    "        'City': str(city), \n",
    "        'Nation': str(nation), \n",
    "        'Population': pop, \n",
    "        'URL': str(url)\n",
    "    }, ignore_index=True)"
   ]
  },
  {
   "cell_type": "code",
   "execution_count": 8,
   "metadata": {},
   "outputs": [
    {
     "data": {
      "text/html": [
       "<div>\n",
       "<style scoped>\n",
       "    .dataframe tbody tr th:only-of-type {\n",
       "        vertical-align: middle;\n",
       "    }\n",
       "\n",
       "    .dataframe tbody tr th {\n",
       "        vertical-align: top;\n",
       "    }\n",
       "\n",
       "    .dataframe thead th {\n",
       "        text-align: right;\n",
       "    }\n",
       "</style>\n",
       "<table border=\"1\" class=\"dataframe\">\n",
       "  <thead>\n",
       "    <tr style=\"text-align: right;\">\n",
       "      <th></th>\n",
       "      <th>City</th>\n",
       "      <th>Nation</th>\n",
       "      <th>Population</th>\n",
       "      <th>URL</th>\n",
       "    </tr>\n",
       "  </thead>\n",
       "  <tbody>\n",
       "    <tr>\n",
       "      <th>0</th>\n",
       "      <td>Chongqing</td>\n",
       "      <td>China</td>\n",
       "      <td>30751600</td>\n",
       "      <td>https://en.wikipedia.org/wiki/Chongqing</td>\n",
       "    </tr>\n",
       "    <tr>\n",
       "      <th>1</th>\n",
       "      <td>Shanghai</td>\n",
       "      <td>China</td>\n",
       "      <td>24256800</td>\n",
       "      <td>https://en.wikipedia.org/wiki/Shanghai</td>\n",
       "    </tr>\n",
       "    <tr>\n",
       "      <th>2</th>\n",
       "      <td>Delhi</td>\n",
       "      <td>India</td>\n",
       "      <td>11034555</td>\n",
       "      <td>https://en.wikipedia.org/wiki/Delhi</td>\n",
       "    </tr>\n",
       "    <tr>\n",
       "      <th>3</th>\n",
       "      <td>Beijing</td>\n",
       "      <td>China</td>\n",
       "      <td>21516000</td>\n",
       "      <td>https://en.wikipedia.org/wiki/Beijing</td>\n",
       "    </tr>\n",
       "    <tr>\n",
       "      <th>4</th>\n",
       "      <td>Dhaka</td>\n",
       "      <td>Bangladesh</td>\n",
       "      <td>14399000</td>\n",
       "      <td>https://en.wikipedia.org/wiki/Dhaka</td>\n",
       "    </tr>\n",
       "  </tbody>\n",
       "</table>\n",
       "</div>"
      ],
      "text/plain": [
       "        City      Nation Population                                      URL\n",
       "0  Chongqing       China   30751600  https://en.wikipedia.org/wiki/Chongqing\n",
       "1   Shanghai       China   24256800   https://en.wikipedia.org/wiki/Shanghai\n",
       "2      Delhi       India   11034555      https://en.wikipedia.org/wiki/Delhi\n",
       "3    Beijing       China   21516000    https://en.wikipedia.org/wiki/Beijing\n",
       "4      Dhaka  Bangladesh   14399000      https://en.wikipedia.org/wiki/Dhaka"
      ]
     },
     "execution_count": 8,
     "metadata": {},
     "output_type": "execute_result"
    }
   ],
   "source": [
    "df_cities.head()"
   ]
  },
  {
   "cell_type": "markdown",
   "metadata": {},
   "source": [
    "## 3. Adding geopositioning data\n",
    "Every city's wikipedia page contains the geographic coordinates, which we can also scrape.\n",
    "The following function scrapes the city page and uses a simple regular expression to capture the coordinates.\n",
    "\n",
    "Here we don't need BeautifulSoup, since we have a Regular Expression that we can directly run on the fetched html."
   ]
  },
  {
   "cell_type": "code",
   "execution_count": 9,
   "metadata": {},
   "outputs": [],
   "source": [
    "# Scrape an individual cities page for its coordinates\n",
    "def scrape_city_coords(url):\n",
    "    req = urllib.request.urlopen(url)\n",
    "    article = req.read().decode()\n",
    "    reg = re.search(r'\"lat\":(.*?),\"lon\":(.*?)}', article)\n",
    "    lat = float(reg.group(1))\n",
    "    lon = float(reg.group(2))\n",
    "    return lat,lon"
   ]
  },
  {
   "cell_type": "markdown",
   "metadata": {},
   "source": [
    "Next we will run this function on the URLs to create two new columns"
   ]
  },
  {
   "cell_type": "code",
   "execution_count": 10,
   "metadata": {},
   "outputs": [],
   "source": [
    "df_cities[\"Latitude\"], df_cities[\"Longitude\"] = zip(*df_cities[\"URL\"].map(scrape_city_coords))"
   ]
  },
  {
   "cell_type": "code",
   "execution_count": 11,
   "metadata": {},
   "outputs": [
    {
     "data": {
      "text/html": [
       "<div>\n",
       "<style scoped>\n",
       "    .dataframe tbody tr th:only-of-type {\n",
       "        vertical-align: middle;\n",
       "    }\n",
       "\n",
       "    .dataframe tbody tr th {\n",
       "        vertical-align: top;\n",
       "    }\n",
       "\n",
       "    .dataframe thead th {\n",
       "        text-align: right;\n",
       "    }\n",
       "</style>\n",
       "<table border=\"1\" class=\"dataframe\">\n",
       "  <thead>\n",
       "    <tr style=\"text-align: right;\">\n",
       "      <th></th>\n",
       "      <th>City</th>\n",
       "      <th>Nation</th>\n",
       "      <th>Population</th>\n",
       "      <th>URL</th>\n",
       "      <th>Latitude</th>\n",
       "      <th>Longitude</th>\n",
       "    </tr>\n",
       "  </thead>\n",
       "  <tbody>\n",
       "    <tr>\n",
       "      <th>0</th>\n",
       "      <td>Chongqing</td>\n",
       "      <td>China</td>\n",
       "      <td>30751600</td>\n",
       "      <td>https://en.wikipedia.org/wiki/Chongqing</td>\n",
       "      <td>29.558333</td>\n",
       "      <td>106.566667</td>\n",
       "    </tr>\n",
       "    <tr>\n",
       "      <th>1</th>\n",
       "      <td>Shanghai</td>\n",
       "      <td>China</td>\n",
       "      <td>24256800</td>\n",
       "      <td>https://en.wikipedia.org/wiki/Shanghai</td>\n",
       "      <td>31.228611</td>\n",
       "      <td>121.474722</td>\n",
       "    </tr>\n",
       "    <tr>\n",
       "      <th>2</th>\n",
       "      <td>Delhi</td>\n",
       "      <td>India</td>\n",
       "      <td>11034555</td>\n",
       "      <td>https://en.wikipedia.org/wiki/Delhi</td>\n",
       "      <td>28.610000</td>\n",
       "      <td>77.230000</td>\n",
       "    </tr>\n",
       "    <tr>\n",
       "      <th>3</th>\n",
       "      <td>Beijing</td>\n",
       "      <td>China</td>\n",
       "      <td>21516000</td>\n",
       "      <td>https://en.wikipedia.org/wiki/Beijing</td>\n",
       "      <td>39.916667</td>\n",
       "      <td>116.383333</td>\n",
       "    </tr>\n",
       "    <tr>\n",
       "      <th>4</th>\n",
       "      <td>Dhaka</td>\n",
       "      <td>Bangladesh</td>\n",
       "      <td>14399000</td>\n",
       "      <td>https://en.wikipedia.org/wiki/Dhaka</td>\n",
       "      <td>23.716111</td>\n",
       "      <td>90.396111</td>\n",
       "    </tr>\n",
       "  </tbody>\n",
       "</table>\n",
       "</div>"
      ],
      "text/plain": [
       "        City      Nation Population                                      URL  \\\n",
       "0  Chongqing       China   30751600  https://en.wikipedia.org/wiki/Chongqing   \n",
       "1   Shanghai       China   24256800   https://en.wikipedia.org/wiki/Shanghai   \n",
       "2      Delhi       India   11034555      https://en.wikipedia.org/wiki/Delhi   \n",
       "3    Beijing       China   21516000    https://en.wikipedia.org/wiki/Beijing   \n",
       "4      Dhaka  Bangladesh   14399000      https://en.wikipedia.org/wiki/Dhaka   \n",
       "\n",
       "    Latitude   Longitude  \n",
       "0  29.558333  106.566667  \n",
       "1  31.228611  121.474722  \n",
       "2  28.610000   77.230000  \n",
       "3  39.916667  116.383333  \n",
       "4  23.716111   90.396111  "
      ]
     },
     "execution_count": 11,
     "metadata": {},
     "output_type": "execute_result"
    }
   ],
   "source": [
    "df_cities.head()"
   ]
  },
  {
   "cell_type": "markdown",
   "metadata": {},
   "source": [
    "## 4. Getting more information from Foursquare"
   ]
  },
  {
   "cell_type": "markdown",
   "metadata": {},
   "source": [
    "This information is needed to connect with Foursquare API"
   ]
  },
  {
   "cell_type": "code",
   "execution_count": 12,
   "metadata": {},
   "outputs": [],
   "source": [
    "CLIENT_ID = 'YPBVFDUZOP1M24BKCWGXIYZ3RFACOE3V35WSFY4DSCMRU44L' # your Foursquare ID\n",
    "CLIENT_SECRET = 'VYHYTBSRIZBPYAOCP5ZEFV3YM4C40YEQCQWCUO4NC1JTPNJM' # your Foursquare Secret\n",
    "VERSION = '20180605' # Foursquare API version"
   ]
  },
  {
   "cell_type": "markdown",
   "metadata": {},
   "source": [
    "We will ask Foursquare for the top picks in every city, then store its name, location and main category."
   ]
  },
  {
   "cell_type": "code",
   "execution_count": 13,
   "metadata": {},
   "outputs": [],
   "source": [
    "def getRecommendedVenues(cities, latitudes, longitudes):\n",
    "    \n",
    "    venues_list=[]\n",
    "    for city, lat, lon in zip(cities, latitudes, longitudes):\n",
    "        \n",
    "        print(\"city:\" + city)\n",
    "            \n",
    "        # create the API request URL\n",
    "        url = 'https://api.foursquare.com/v2/venues/explore?&section=topPicks&client_id={}&client_secret={}&v={}&ll={},{}'.format(\n",
    "            CLIENT_ID, \n",
    "            CLIENT_SECRET, \n",
    "            VERSION, \n",
    "            lat, \n",
    "            lon)\n",
    "            \n",
    "        # make the GET request\n",
    "        response = requests.get(url)\n",
    "        if response.status_code == requests.codes.ok:\n",
    "            results = response.json()[\"response\"]['groups'][0]['items']\n",
    "        else:\n",
    "            print (\"status was:\" + str(response.status_code))\n",
    "            print (response)\n",
    "            continue\n",
    "        \n",
    "        # return only relevant information for each nearby venue\n",
    "        venues_list.append([(\n",
    "            city,\n",
    "            v['venue']['name'], \n",
    "            v['venue']['location']['lat'], \n",
    "            v['venue']['location']['lng'],  \n",
    "            v['venue']['categories'][0]['name']) for v in results])\n",
    "\n",
    "\n",
    "    nearby_venues = pd.DataFrame([item for venue_list in venues_list for item in venue_list])\n",
    "    nearby_venues.columns = ['City',\n",
    "                  'Venue', \n",
    "                  'Venue Latitude', \n",
    "                  'Venue Longitude', \n",
    "                  'Venue Category']\n",
    "    \n",
    "    return(nearby_venues)"
   ]
  },
  {
   "cell_type": "markdown",
   "metadata": {},
   "source": [
    "Now, actually run the above function for every city."
   ]
  },
  {
   "cell_type": "code",
   "execution_count": 14,
   "metadata": {},
   "outputs": [
    {
     "name": "stdout",
     "output_type": "stream",
     "text": [
      "city:Chongqing\n",
      "city:Shanghai\n",
      "city:Delhi\n",
      "city:Beijing\n",
      "city:Dhaka\n",
      "city:Mumbai\n",
      "city:Lagos\n",
      "city:Chengdu\n",
      "city:Karachi\n",
      "city:Guangzhou\n",
      "city:Istanbul\n",
      "city:Tokyo\n",
      "city:Tianjin\n",
      "city:Moscow\n",
      "city:São Paulo\n",
      "city:Kinshasa\n",
      "city:Baoding\n",
      "city:Lahore\n",
      "city:Cairo\n",
      "city:Seoul\n",
      "city:Jakarta\n",
      "city:Wenzhou\n",
      "city:Mexico City\n",
      "city:Lima\n",
      "city:London\n",
      "city:Bangkok\n",
      "city:Xi'an\n",
      "city:Chennai\n",
      "city:Bangalore\n",
      "city:New York City\n",
      "city:Ho Chi Minh City\n",
      "city:Hyderabad\n",
      "city:Shenzhen\n",
      "city:Suzhou\n",
      "city:Nanjing\n",
      "city:Dongguan\n",
      "city:Tehran\n",
      "city:Quanzhou\n",
      "city:Shenyang\n",
      "city:Bogotá\n",
      "city:Hong Kong\n",
      "city:Baghdad\n",
      "city:Fuzhou\n",
      "city:Changsha\n",
      "city:Wuhan\n",
      "city:Hanoi\n",
      "city:Rio de Janeiro\n",
      "city:Qingdao\n",
      "city:Foshan\n",
      "city:Zunyi\n",
      "city:Santiago\n",
      "city:Riyadh\n",
      "city:Ahmedabad\n",
      "city:Singapore\n",
      "city:Shantou\n",
      "city:Ankara\n",
      "city:Yangon\n",
      "city:Saint Petersburg\n",
      "city:Sydney\n",
      "city:Casablanca\n",
      "city:Melbourne\n",
      "city:Abidjan\n",
      "city:Alexandria\n",
      "city:Kolkata\n",
      "city:Surat\n",
      "city:Johannesburg\n",
      "city:Dar es Salaam\n",
      "city:Shijiazhuang\n",
      "city:Harbin\n",
      "city:Giza\n",
      "city:İzmir\n",
      "city:Zhengzhou\n",
      "city:New Taipei City\n",
      "city:Los Angeles\n",
      "city:Changchun\n",
      "city:Cape Town\n",
      "city:Yokohama\n",
      "city:Khartoum\n",
      "city:Guayaquil\n",
      "city:Hangzhou\n",
      "city:Xiamen\n",
      "city:Berlin\n",
      "city:Busan\n",
      "city:Ningbo\n",
      "city:Jeddah\n",
      "city:Durban\n",
      "city:Algiers\n",
      "city:Kabul\n",
      "city:Hefei\n",
      "city:Mashhad\n",
      "city:Pyongyang\n",
      "city:Madrid\n",
      "city:Faisalabad\n",
      "city:Baku\n",
      "city:Tangshan\n",
      "city:Ekurhuleni\n",
      "city:Nairobi\n",
      "city:Zhongshan\n",
      "city:Pune\n",
      "city:Addis Ababa\n",
      "city:Jaipur\n",
      "city:Buenos Aires\n",
      "city:Incheon\n",
      "city:Quezon City\n",
      "city:Toronto\n",
      "city:Kiev\n",
      "city:Salvador\n",
      "city:Rome\n",
      "city:Dubai\n",
      "city:Luanda\n",
      "city:Lucknow\n",
      "city:Kaohsiung\n",
      "city:Kanpur\n",
      "city:Surabaya\n",
      "city:Taichung\n",
      "city:Basra\n",
      "city:Taipei\n",
      "city:Chicago\n",
      "city:Osaka\n",
      "city:Quito\n",
      "city:Chaozhou\n",
      "city:Fortaleza\n",
      "city:Chittagong\n",
      "city:Bandung\n",
      "city:Managua\n",
      "city:Brasília\n",
      "city:Belo Horizonte\n",
      "city:Daegu\n",
      "city:Houston\n",
      "city:Douala\n",
      "city:Medellin\n",
      "city:Yaoundé\n",
      "city:Nagpur\n",
      "city:Cali\n",
      "city:Tashkent\n",
      "city:Nagoya\n",
      "city:Isfahan\n",
      "city:Phnom Penh\n",
      "city:Paris\n",
      "city:Ouagadougou\n",
      "city:Lanzhou\n",
      "city:Kano\n",
      "city:Dalian\n",
      "city:Guatemala City\n",
      "city:Havana\n",
      "city:Rawalpindi\n",
      "city:Medan\n",
      "city:Accra\n",
      "city:Visakhapatnam\n",
      "city:Gujranwala\n",
      "city:Jinan\n",
      "city:Karaj\n",
      "city:Peshawar\n",
      "city:Minsk\n",
      "city:Caracas\n",
      "city:Sana'a\n",
      "city:Sapporo\n",
      "city:Tainan\n",
      "city:Bucharest\n",
      "city:Curitiba\n",
      "city:Shiraz\n",
      "city:Vienna\n",
      "city:Brazzaville\n",
      "city:Bhopal\n",
      "city:Almaty\n",
      "city:Hamburg\n",
      "city:Manila\n",
      "city:Kuala Lumpur\n",
      "city:Maputo\n",
      "city:Budapest\n",
      "city:Warsaw\n",
      "city:Lusaka\n",
      "city:Kathmandu\n",
      "city:Tabriz\n",
      "city:Hyderabad\n",
      "city:Palembang\n",
      "city:Tijuana\n",
      "city:Patna\n",
      "city:Montreal\n",
      "city:Davao City\n",
      "city:Harare\n",
      "city:Barcelona\n",
      "city:Maracaibo\n",
      "city:Caloocan\n",
      "city:Philadelphia\n",
      "city:Novosibirsk\n",
      "city:Phoenix\n",
      "city:Oran\n",
      "city:Semarang\n",
      "city:Recife\n",
      "city:Kobe\n",
      "city:Daejeon\n",
      "city:Kampala\n",
      "city:Kawasaki\n",
      "city:Guadalajara\n",
      "city:Auckland\n",
      "city:Vijayawada\n",
      "city:Fukuoka\n",
      "city:Gwangju\n",
      "city:Porto Alegre\n",
      "city:Kyoto\n",
      "city:San Antonio\n",
      "city:Santa Cruz de la Sierra\n",
      "city:Munich\n",
      "city:Kharkiv\n",
      "city:Yekaterinburg\n",
      "city:San Diego\n",
      "city:Barranquilla\n",
      "city:Milan\n",
      "city:Ibadan\n",
      "city:Makassar\n",
      "city:Córdoba\n",
      "city:Prague\n",
      "city:Mandalay\n",
      "city:Dallas\n",
      "city:Montevideo\n",
      "city:Qom\n",
      "city:Ahvaz\n",
      "city:Sofia\n",
      "city:Nizhny Novgorod\n",
      "city:Abuja\n",
      "city:Calgary\n",
      "city:Saitama\n",
      "city:Suwon\n",
      "city:Hiroshima\n",
      "city:Rosario\n",
      "city:Brisbane\n",
      "city:Allahabad\n",
      "city:Belgrade\n",
      "city:Campinas\n",
      "city:Ulsan\n",
      "city:Omsk\n",
      "city:Dakar\n",
      "city:Abu Dhabi\n",
      "city:Monterrey\n",
      "city:Tripoli\n",
      "city:Rostov-on-Don\n",
      "city:T'bilisi\n",
      "city:Fez\n",
      "city:Birmingham\n",
      "city:Yerevan\n",
      "city:Cologne\n",
      "city:Tunis\n",
      "city:Bulawayo\n",
      "city:Astana\n",
      "city:Islamabad\n",
      "city:Cartagena\n"
     ]
    }
   ],
   "source": [
    "df_venues = getRecommendedVenues(df_cities['City'], df_cities['Latitude'], df_cities['Longitude'])"
   ]
  },
  {
   "cell_type": "code",
   "execution_count": 15,
   "metadata": {},
   "outputs": [
    {
     "data": {
      "text/html": [
       "<div>\n",
       "<style scoped>\n",
       "    .dataframe tbody tr th:only-of-type {\n",
       "        vertical-align: middle;\n",
       "    }\n",
       "\n",
       "    .dataframe tbody tr th {\n",
       "        vertical-align: top;\n",
       "    }\n",
       "\n",
       "    .dataframe thead th {\n",
       "        text-align: right;\n",
       "    }\n",
       "</style>\n",
       "<table border=\"1\" class=\"dataframe\">\n",
       "  <thead>\n",
       "    <tr style=\"text-align: right;\">\n",
       "      <th></th>\n",
       "      <th>City</th>\n",
       "      <th>Venue</th>\n",
       "      <th>Venue Latitude</th>\n",
       "      <th>Venue Longitude</th>\n",
       "      <th>Venue Category</th>\n",
       "    </tr>\n",
       "  </thead>\n",
       "  <tbody>\n",
       "    <tr>\n",
       "      <th>0</th>\n",
       "      <td>Chongqing</td>\n",
       "      <td>The Harp Irish Pub</td>\n",
       "      <td>29.565116</td>\n",
       "      <td>106.575310</td>\n",
       "      <td>Bar</td>\n",
       "    </tr>\n",
       "    <tr>\n",
       "      <th>1</th>\n",
       "      <td>Chongqing</td>\n",
       "      <td>重庆八一路好吃街</td>\n",
       "      <td>29.558669</td>\n",
       "      <td>106.573631</td>\n",
       "      <td>Chinese Restaurant</td>\n",
       "    </tr>\n",
       "    <tr>\n",
       "      <th>2</th>\n",
       "      <td>Chongqing</td>\n",
       "      <td>Paulaner Brauhaus</td>\n",
       "      <td>29.538571</td>\n",
       "      <td>106.557791</td>\n",
       "      <td>German Restaurant</td>\n",
       "    </tr>\n",
       "    <tr>\n",
       "      <th>3</th>\n",
       "      <td>Chongqing</td>\n",
       "      <td>重庆Muse酒吧</td>\n",
       "      <td>29.556987</td>\n",
       "      <td>106.571565</td>\n",
       "      <td>Nightclub</td>\n",
       "    </tr>\n",
       "    <tr>\n",
       "      <th>4</th>\n",
       "      <td>Chongqing</td>\n",
       "      <td>TT酒吧</td>\n",
       "      <td>29.557011</td>\n",
       "      <td>106.571404</td>\n",
       "      <td>Nightclub</td>\n",
       "    </tr>\n",
       "  </tbody>\n",
       "</table>\n",
       "</div>"
      ],
      "text/plain": [
       "        City               Venue  Venue Latitude  Venue Longitude  \\\n",
       "0  Chongqing  The Harp Irish Pub       29.565116       106.575310   \n",
       "1  Chongqing            重庆八一路好吃街       29.558669       106.573631   \n",
       "2  Chongqing   Paulaner Brauhaus       29.538571       106.557791   \n",
       "3  Chongqing            重庆Muse酒吧       29.556987       106.571565   \n",
       "4  Chongqing                TT酒吧       29.557011       106.571404   \n",
       "\n",
       "       Venue Category  \n",
       "0                 Bar  \n",
       "1  Chinese Restaurant  \n",
       "2   German Restaurant  \n",
       "3           Nightclub  \n",
       "4           Nightclub  "
      ]
     },
     "execution_count": 15,
     "metadata": {},
     "output_type": "execute_result"
    }
   ],
   "source": [
    "df_venues.head()"
   ]
  },
  {
   "cell_type": "markdown",
   "metadata": {},
   "source": [
    "That's looking pretty awesome. Now let's prevent more scraping by saving the dataframe to a file."
   ]
  },
  {
   "cell_type": "markdown",
   "metadata": {},
   "source": [
    "## 5. Joining the dataframe"
   ]
  },
  {
   "cell_type": "code",
   "execution_count": 16,
   "metadata": {},
   "outputs": [
    {
     "data": {
      "text/html": [
       "<div>\n",
       "<style scoped>\n",
       "    .dataframe tbody tr th:only-of-type {\n",
       "        vertical-align: middle;\n",
       "    }\n",
       "\n",
       "    .dataframe tbody tr th {\n",
       "        vertical-align: top;\n",
       "    }\n",
       "\n",
       "    .dataframe thead th {\n",
       "        text-align: right;\n",
       "    }\n",
       "</style>\n",
       "<table border=\"1\" class=\"dataframe\">\n",
       "  <thead>\n",
       "    <tr style=\"text-align: right;\">\n",
       "      <th></th>\n",
       "      <th>City</th>\n",
       "      <th>Venue</th>\n",
       "      <th>Venue Latitude</th>\n",
       "      <th>Venue Longitude</th>\n",
       "      <th>Venue Category</th>\n",
       "      <th>Nation</th>\n",
       "      <th>Population</th>\n",
       "      <th>URL</th>\n",
       "      <th>Latitude</th>\n",
       "      <th>Longitude</th>\n",
       "    </tr>\n",
       "  </thead>\n",
       "  <tbody>\n",
       "    <tr>\n",
       "      <th>0</th>\n",
       "      <td>Chongqing</td>\n",
       "      <td>The Harp Irish Pub</td>\n",
       "      <td>29.565116</td>\n",
       "      <td>106.575310</td>\n",
       "      <td>Bar</td>\n",
       "      <td>China</td>\n",
       "      <td>30751600</td>\n",
       "      <td>https://en.wikipedia.org/wiki/Chongqing</td>\n",
       "      <td>29.558333</td>\n",
       "      <td>106.566667</td>\n",
       "    </tr>\n",
       "    <tr>\n",
       "      <th>1</th>\n",
       "      <td>Chongqing</td>\n",
       "      <td>重庆八一路好吃街</td>\n",
       "      <td>29.558669</td>\n",
       "      <td>106.573631</td>\n",
       "      <td>Chinese Restaurant</td>\n",
       "      <td>China</td>\n",
       "      <td>30751600</td>\n",
       "      <td>https://en.wikipedia.org/wiki/Chongqing</td>\n",
       "      <td>29.558333</td>\n",
       "      <td>106.566667</td>\n",
       "    </tr>\n",
       "    <tr>\n",
       "      <th>2</th>\n",
       "      <td>Chongqing</td>\n",
       "      <td>Paulaner Brauhaus</td>\n",
       "      <td>29.538571</td>\n",
       "      <td>106.557791</td>\n",
       "      <td>German Restaurant</td>\n",
       "      <td>China</td>\n",
       "      <td>30751600</td>\n",
       "      <td>https://en.wikipedia.org/wiki/Chongqing</td>\n",
       "      <td>29.558333</td>\n",
       "      <td>106.566667</td>\n",
       "    </tr>\n",
       "    <tr>\n",
       "      <th>3</th>\n",
       "      <td>Chongqing</td>\n",
       "      <td>重庆Muse酒吧</td>\n",
       "      <td>29.556987</td>\n",
       "      <td>106.571565</td>\n",
       "      <td>Nightclub</td>\n",
       "      <td>China</td>\n",
       "      <td>30751600</td>\n",
       "      <td>https://en.wikipedia.org/wiki/Chongqing</td>\n",
       "      <td>29.558333</td>\n",
       "      <td>106.566667</td>\n",
       "    </tr>\n",
       "    <tr>\n",
       "      <th>4</th>\n",
       "      <td>Chongqing</td>\n",
       "      <td>TT酒吧</td>\n",
       "      <td>29.557011</td>\n",
       "      <td>106.571404</td>\n",
       "      <td>Nightclub</td>\n",
       "      <td>China</td>\n",
       "      <td>30751600</td>\n",
       "      <td>https://en.wikipedia.org/wiki/Chongqing</td>\n",
       "      <td>29.558333</td>\n",
       "      <td>106.566667</td>\n",
       "    </tr>\n",
       "  </tbody>\n",
       "</table>\n",
       "</div>"
      ],
      "text/plain": [
       "        City               Venue  Venue Latitude  Venue Longitude  \\\n",
       "0  Chongqing  The Harp Irish Pub       29.565116       106.575310   \n",
       "1  Chongqing            重庆八一路好吃街       29.558669       106.573631   \n",
       "2  Chongqing   Paulaner Brauhaus       29.538571       106.557791   \n",
       "3  Chongqing            重庆Muse酒吧       29.556987       106.571565   \n",
       "4  Chongqing                TT酒吧       29.557011       106.571404   \n",
       "\n",
       "       Venue Category Nation Population  \\\n",
       "0                 Bar  China   30751600   \n",
       "1  Chinese Restaurant  China   30751600   \n",
       "2   German Restaurant  China   30751600   \n",
       "3           Nightclub  China   30751600   \n",
       "4           Nightclub  China   30751600   \n",
       "\n",
       "                                       URL   Latitude   Longitude  \n",
       "0  https://en.wikipedia.org/wiki/Chongqing  29.558333  106.566667  \n",
       "1  https://en.wikipedia.org/wiki/Chongqing  29.558333  106.566667  \n",
       "2  https://en.wikipedia.org/wiki/Chongqing  29.558333  106.566667  \n",
       "3  https://en.wikipedia.org/wiki/Chongqing  29.558333  106.566667  \n",
       "4  https://en.wikipedia.org/wiki/Chongqing  29.558333  106.566667  "
      ]
     },
     "execution_count": 16,
     "metadata": {},
     "output_type": "execute_result"
    }
   ],
   "source": [
    "df_joined = pd.merge(df_venues, df_cities, on='City')\n",
    "df_joined.head()"
   ]
  },
  {
   "cell_type": "markdown",
   "metadata": {},
   "source": [
    "## 6. Saving the dataframes"
   ]
  },
  {
   "cell_type": "markdown",
   "metadata": {},
   "source": [
    "We export the dataframes so we don't have to scrape again.  \n",
    "First as CSV, as this is a very generic format.  \n",
    "Secondly as pickle, since this is a quick way to import the dataframe again."
   ]
  },
  {
   "cell_type": "code",
   "execution_count": 17,
   "metadata": {},
   "outputs": [],
   "source": [
    "# export both dataframes as CSV\n",
    "df_cities.to_csv('cities.csv')\n",
    "df_venues.to_csv('venues.csv')\n",
    "df_joined.to_csv('joined.cvs')"
   ]
  },
  {
   "cell_type": "code",
   "execution_count": 18,
   "metadata": {},
   "outputs": [],
   "source": [
    "# export both dataframe as pickles\n",
    "df_cities.to_pickle('cities.pickle')\n",
    "df_venues.to_pickle('venues.pickle')\n",
    "df_joined.to_pickle('joined.pickle')"
   ]
  }
 ],
 "metadata": {
  "kernelspec": {
   "display_name": "Python 3",
   "language": "python",
   "name": "python3"
  },
  "language_info": {
   "codemirror_mode": {
    "name": "ipython",
    "version": 3
   },
   "file_extension": ".py",
   "mimetype": "text/x-python",
   "name": "python",
   "nbconvert_exporter": "python",
   "pygments_lexer": "ipython3",
   "version": "3.7.0"
  }
 },
 "nbformat": 4,
 "nbformat_minor": 2
}
