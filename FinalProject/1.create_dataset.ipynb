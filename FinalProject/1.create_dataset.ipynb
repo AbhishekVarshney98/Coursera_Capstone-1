{
 "cells": [
  {
   "cell_type": "markdown",
   "metadata": {},
   "source": [
    "# Creating a World Cities dataset"
   ]
  },
  {
   "cell_type": "markdown",
   "metadata": {},
   "source": [
    "The wikipedia page [List of largest cities](https://en.wikipedia.org/wiki/List_of_largest_cities) has a list of the largest cities in the world.  \n",
    "We are interested in table that contains the actual cities, and want the cityname, the nation, and its city proper population. "
   ]
  },
  {
   "cell_type": "markdown",
   "metadata": {},
   "source": [
    "In [Section 2](#2.-Scrape-list-of-largest-cities-from-Wikipedia), we use urllib to fetch the page, then BeautifulSoup to parse it and find the first (and only) sortable table.  \n",
    "We also scrape the URL referencing the individual cities' pages."
   ]
  },
  {
   "cell_type": "markdown",
   "metadata": {},
   "source": [
    "In [Section 3](#3.-Adding-geopositioning-data) we scrape the wikipedia page for every individual city in order to get the cities geographic coordinates.  \n",
    "In theory we could use this step to grab more information, like population density. However, since we want to demonstrate the use of the Foursquare API, we will not use such data."
   ]
  },
  {
   "cell_type": "markdown",
   "metadata": {},
   "source": [
    "In [Section 4](#4.-Getting-more-information-from-Foursquare) we use the Foursquare API to learn more about these cities. \n",
    "Specifically we ask for top recommendations in those cities, to get an idea of what is popular."
   ]
  },
  {
   "cell_type": "markdown",
   "metadata": {},
   "source": [
    "In [Section 5](#5.-Saving-the-dataframes) we export the created dataframe so we can import it in other notebooks."
   ]
  },
  {
   "cell_type": "markdown",
   "metadata": {},
   "source": [
    "## 1. Imports and such things"
   ]
  },
  {
   "cell_type": "markdown",
   "metadata": {},
   "source": [
    "We use the following libraries to fetch and parse html pages, and to interact with the Foursquare API."
   ]
  },
  {
   "cell_type": "code",
   "execution_count": 1,
   "metadata": {},
   "outputs": [],
   "source": [
    "import urllib.request\n",
    "from bs4 import BeautifulSoup\n",
    "import requests"
   ]
  },
  {
   "cell_type": "markdown",
   "metadata": {},
   "source": [
    "We use regular expressions, e.g. to extract population count and city coordinates from scraped webpages"
   ]
  },
  {
   "cell_type": "code",
   "execution_count": 2,
   "metadata": {},
   "outputs": [],
   "source": [
    "import re"
   ]
  },
  {
   "cell_type": "markdown",
   "metadata": {},
   "source": [
    "We use Pandas for building the dataframe."
   ]
  },
  {
   "cell_type": "code",
   "execution_count": 3,
   "metadata": {},
   "outputs": [],
   "source": [
    "import pandas as pd"
   ]
  },
  {
   "cell_type": "markdown",
   "metadata": {},
   "source": [
    "## 2. Scrape list of largest cities from Wikipedia"
   ]
  },
  {
   "cell_type": "markdown",
   "metadata": {},
   "source": [
    "The following code fetches a Wikipedia page."
   ]
  },
  {
   "cell_type": "code",
   "execution_count": 4,
   "metadata": {},
   "outputs": [],
   "source": [
    "# location of the wikipedia article\n",
    "url = \"https://en.wikipedia.org/wiki/List_of_largest_cities\"\n",
    "\n",
    "# fetch the article\n",
    "req = urllib.request.urlopen(url)\n",
    "article = req.read().decode()"
   ]
  },
  {
   "cell_type": "markdown",
   "metadata": {},
   "source": [
    "We use BeautifulSoup to parse the obtained HTML, and find the first sortable table. This is the table of Largest cities that dominates the Wikipedia article."
   ]
  },
  {
   "cell_type": "code",
   "execution_count": 5,
   "metadata": {},
   "outputs": [],
   "source": [
    "# parse with BeautifulSoup and find the first sortable table\n",
    "soup = BeautifulSoup(article, 'html.parser')\n",
    "table = soup.find('table', class_='sortable')"
   ]
  },
  {
   "cell_type": "markdown",
   "metadata": {},
   "source": [
    "We create a new Pandas dataframe to hold our cities. We will also save its nation, its population count, and its URL."
   ]
  },
  {
   "cell_type": "code",
   "execution_count": 6,
   "metadata": {},
   "outputs": [
    {
     "data": {
      "text/plain": [
       "Series([], Name: Population, dtype: int64)"
      ]
     },
     "execution_count": 6,
     "metadata": {},
     "output_type": "execute_result"
    }
   ],
   "source": [
    "# create an empty DataFrame\n",
    "cols=[\"City\", \"Nation\", \"Population\", \"URL\"]\n",
    "df_cities = pd.DataFrame(columns=cols)\n",
    "df_cities['Population'].astype(int)"
   ]
  },
  {
   "cell_type": "markdown",
   "metadata": {},
   "source": [
    "We can now traverse through the entire table and append the required data to our dataframe"
   ]
  },
  {
   "cell_type": "code",
   "execution_count": 7,
   "metadata": {},
   "outputs": [],
   "source": [
    "# iterate trough all the rows in the table:\n",
    "for tr in table.find_all('tr'):\n",
    "    tds = tr.find_all('td')\n",
    "    if not tds:\n",
    "        continue                            # skips first row with headings\n",
    "    nation = tds[0].find('a').string        # first td column contains nation   \n",
    "    try:\n",
    "        pop = int(re.compile(r'\\[.*\\]').sub(\"\",tds[2].text).replace(',',''))  # rough but working way to parse the population count\n",
    "    except ValueError:\n",
    "        pop = 0                             # but not every city has a population count\n",
    "    city_a = tr.find('th').find('a')        # the first column contains th tag and contains the <a> link to the city\n",
    "    city = city_a.string\n",
    "    url = \"https://en.wikipedia.org\" + city_a['href']\n",
    "    df_cities = df_cities.append({\n",
    "        'City': str(city), \n",
    "        'Nation': str(nation), \n",
    "        'Population': pop, \n",
    "        'URL': str(url)\n",
    "    }, ignore_index=True)"
   ]
  },
  {
   "cell_type": "code",
   "execution_count": 8,
   "metadata": {},
   "outputs": [
    {
     "name": "stdout",
     "output_type": "stream",
     "text": [
      "Shape: (247, 4)\n",
      "There are 246 unique city names\n"
     ]
    }
   ],
   "source": [
    "print (\"Shape: {}\".format(df_cities.shape))\n",
    "print (\"There are {} unique city names\".format(df_cities['City'].nunique()))"
   ]
  },
  {
   "cell_type": "markdown",
   "metadata": {},
   "source": [
    "This is strange, apparently a city occurs twice in the list?\n",
    "This is the city of *Hyderabad*. They have one in both India and in Pakistan.\n",
    "\n",
    "Conclusion: we cannot use 'city' as unique identifier to this list."
   ]
  },
  {
   "cell_type": "code",
   "execution_count": 9,
   "metadata": {},
   "outputs": [
    {
     "name": "stdout",
     "output_type": "stream",
     "text": [
      "There are 247 unique city/nation combinations\n"
     ]
    },
    {
     "data": {
      "text/html": [
       "<div>\n",
       "<style scoped>\n",
       "    .dataframe tbody tr th:only-of-type {\n",
       "        vertical-align: middle;\n",
       "    }\n",
       "\n",
       "    .dataframe tbody tr th {\n",
       "        vertical-align: top;\n",
       "    }\n",
       "\n",
       "    .dataframe thead th {\n",
       "        text-align: right;\n",
       "    }\n",
       "</style>\n",
       "<table border=\"1\" class=\"dataframe\">\n",
       "  <thead>\n",
       "    <tr style=\"text-align: right;\">\n",
       "      <th></th>\n",
       "      <th>City</th>\n",
       "      <th>Nation</th>\n",
       "      <th>Population</th>\n",
       "      <th>URL</th>\n",
       "    </tr>\n",
       "  </thead>\n",
       "  <tbody>\n",
       "    <tr>\n",
       "      <th>0</th>\n",
       "      <td>Chongqing</td>\n",
       "      <td>China</td>\n",
       "      <td>30751600</td>\n",
       "      <td>https://en.wikipedia.org/wiki/Chongqing</td>\n",
       "    </tr>\n",
       "    <tr>\n",
       "      <th>1</th>\n",
       "      <td>Shanghai</td>\n",
       "      <td>China</td>\n",
       "      <td>24256800</td>\n",
       "      <td>https://en.wikipedia.org/wiki/Shanghai</td>\n",
       "    </tr>\n",
       "    <tr>\n",
       "      <th>2</th>\n",
       "      <td>Delhi</td>\n",
       "      <td>India</td>\n",
       "      <td>11034555</td>\n",
       "      <td>https://en.wikipedia.org/wiki/Delhi</td>\n",
       "    </tr>\n",
       "    <tr>\n",
       "      <th>3</th>\n",
       "      <td>Beijing</td>\n",
       "      <td>China</td>\n",
       "      <td>21516000</td>\n",
       "      <td>https://en.wikipedia.org/wiki/Beijing</td>\n",
       "    </tr>\n",
       "    <tr>\n",
       "      <th>4</th>\n",
       "      <td>Dhaka</td>\n",
       "      <td>Bangladesh</td>\n",
       "      <td>14399000</td>\n",
       "      <td>https://en.wikipedia.org/wiki/Dhaka</td>\n",
       "    </tr>\n",
       "  </tbody>\n",
       "</table>\n",
       "</div>"
      ],
      "text/plain": [
       "        City      Nation Population                                      URL\n",
       "0  Chongqing       China   30751600  https://en.wikipedia.org/wiki/Chongqing\n",
       "1   Shanghai       China   24256800   https://en.wikipedia.org/wiki/Shanghai\n",
       "2      Delhi       India   11034555      https://en.wikipedia.org/wiki/Delhi\n",
       "3    Beijing       China   21516000    https://en.wikipedia.org/wiki/Beijing\n",
       "4      Dhaka  Bangladesh   14399000      https://en.wikipedia.org/wiki/Dhaka"
      ]
     },
     "execution_count": 9,
     "metadata": {},
     "output_type": "execute_result"
    }
   ],
   "source": [
    "print (\"There are {} unique city/nation combinations\".format(len(df_cities.groupby(['City', 'Nation']))))\n",
    "df_cities.head()"
   ]
  },
  {
   "cell_type": "markdown",
   "metadata": {},
   "source": [
    "## 3. Adding geopositioning data\n",
    "Every city's wikipedia page contains the geographic coordinates, which we can also scrape.\n",
    "The following function scrapes the city page and uses a simple regular expression to capture the coordinates.\n",
    "\n",
    "Here we don't need BeautifulSoup, since we have a Regular Expression that we can directly run on the fetched html."
   ]
  },
  {
   "cell_type": "code",
   "execution_count": 10,
   "metadata": {},
   "outputs": [],
   "source": [
    "# Scrape an individual cities page for its coordinates\n",
    "def scrape_city_coords(url):\n",
    "    req = urllib.request.urlopen(url)\n",
    "    article = req.read().decode()\n",
    "    reg = re.search(r'\"lat\":(.*?),\"lon\":(.*?)}', article)\n",
    "    lat = float(reg.group(1))\n",
    "    lon = float(reg.group(2))\n",
    "    return lat,lon"
   ]
  },
  {
   "cell_type": "markdown",
   "metadata": {},
   "source": [
    "Next we will run this function on the URLs to create two new columns"
   ]
  },
  {
   "cell_type": "code",
   "execution_count": 11,
   "metadata": {},
   "outputs": [],
   "source": [
    "df_cities[\"Latitude\"], df_cities[\"Longitude\"] = zip(*df_cities[\"URL\"].map(scrape_city_coords))"
   ]
  },
  {
   "cell_type": "code",
   "execution_count": 12,
   "metadata": {},
   "outputs": [
    {
     "data": {
      "text/html": [
       "<div>\n",
       "<style scoped>\n",
       "    .dataframe tbody tr th:only-of-type {\n",
       "        vertical-align: middle;\n",
       "    }\n",
       "\n",
       "    .dataframe tbody tr th {\n",
       "        vertical-align: top;\n",
       "    }\n",
       "\n",
       "    .dataframe thead th {\n",
       "        text-align: right;\n",
       "    }\n",
       "</style>\n",
       "<table border=\"1\" class=\"dataframe\">\n",
       "  <thead>\n",
       "    <tr style=\"text-align: right;\">\n",
       "      <th></th>\n",
       "      <th>City</th>\n",
       "      <th>Nation</th>\n",
       "      <th>Population</th>\n",
       "      <th>URL</th>\n",
       "      <th>Latitude</th>\n",
       "      <th>Longitude</th>\n",
       "    </tr>\n",
       "  </thead>\n",
       "  <tbody>\n",
       "    <tr>\n",
       "      <th>0</th>\n",
       "      <td>Chongqing</td>\n",
       "      <td>China</td>\n",
       "      <td>30751600</td>\n",
       "      <td>https://en.wikipedia.org/wiki/Chongqing</td>\n",
       "      <td>29.558333</td>\n",
       "      <td>106.566667</td>\n",
       "    </tr>\n",
       "    <tr>\n",
       "      <th>1</th>\n",
       "      <td>Shanghai</td>\n",
       "      <td>China</td>\n",
       "      <td>24256800</td>\n",
       "      <td>https://en.wikipedia.org/wiki/Shanghai</td>\n",
       "      <td>31.228611</td>\n",
       "      <td>121.474722</td>\n",
       "    </tr>\n",
       "    <tr>\n",
       "      <th>2</th>\n",
       "      <td>Delhi</td>\n",
       "      <td>India</td>\n",
       "      <td>11034555</td>\n",
       "      <td>https://en.wikipedia.org/wiki/Delhi</td>\n",
       "      <td>28.610000</td>\n",
       "      <td>77.230000</td>\n",
       "    </tr>\n",
       "    <tr>\n",
       "      <th>3</th>\n",
       "      <td>Beijing</td>\n",
       "      <td>China</td>\n",
       "      <td>21516000</td>\n",
       "      <td>https://en.wikipedia.org/wiki/Beijing</td>\n",
       "      <td>39.916667</td>\n",
       "      <td>116.383333</td>\n",
       "    </tr>\n",
       "    <tr>\n",
       "      <th>4</th>\n",
       "      <td>Dhaka</td>\n",
       "      <td>Bangladesh</td>\n",
       "      <td>14399000</td>\n",
       "      <td>https://en.wikipedia.org/wiki/Dhaka</td>\n",
       "      <td>23.716111</td>\n",
       "      <td>90.396111</td>\n",
       "    </tr>\n",
       "  </tbody>\n",
       "</table>\n",
       "</div>"
      ],
      "text/plain": [
       "        City      Nation Population                                      URL  \\\n",
       "0  Chongqing       China   30751600  https://en.wikipedia.org/wiki/Chongqing   \n",
       "1   Shanghai       China   24256800   https://en.wikipedia.org/wiki/Shanghai   \n",
       "2      Delhi       India   11034555      https://en.wikipedia.org/wiki/Delhi   \n",
       "3    Beijing       China   21516000    https://en.wikipedia.org/wiki/Beijing   \n",
       "4      Dhaka  Bangladesh   14399000      https://en.wikipedia.org/wiki/Dhaka   \n",
       "\n",
       "    Latitude   Longitude  \n",
       "0  29.558333  106.566667  \n",
       "1  31.228611  121.474722  \n",
       "2  28.610000   77.230000  \n",
       "3  39.916667  116.383333  \n",
       "4  23.716111   90.396111  "
      ]
     },
     "execution_count": 12,
     "metadata": {},
     "output_type": "execute_result"
    }
   ],
   "source": [
    "df_cities.head()"
   ]
  },
  {
   "cell_type": "markdown",
   "metadata": {},
   "source": [
    "## 4. Getting more information from Foursquare"
   ]
  },
  {
   "cell_type": "markdown",
   "metadata": {},
   "source": [
    "This information is needed to connect with Foursquare API"
   ]
  },
  {
   "cell_type": "code",
   "execution_count": 13,
   "metadata": {},
   "outputs": [],
   "source": [
    "CLIENT_ID = 'YPBVFDUZOP1M24BKCWGXIYZ3RFACOE3V35WSFY4DSCMRU44L' # your Foursquare ID\n",
    "CLIENT_SECRET = 'VYHYTBSRIZBPYAOCP5ZEFV3YM4C40YEQCQWCUO4NC1JTPNJM' # your Foursquare Secret\n",
    "VERSION = '20180605' # Foursquare API version"
   ]
  },
  {
   "cell_type": "markdown",
   "metadata": {},
   "source": [
    "We will ask Foursquare for the top picks in every city, then store its name, location and main category."
   ]
  },
  {
   "cell_type": "code",
   "execution_count": 14,
   "metadata": {},
   "outputs": [],
   "source": [
    "RADIUS=20000 # search within 20km from city centre (max=100km)\n",
    "LIMIT=100    # maximum of 100 venues per city (max=100)\n",
    "\n",
    "def getRecommendedVenues(cities, nations, latitudes, longitudes):\n",
    "    \n",
    "    venues_list=[]\n",
    "    for city, nation, lat, lon in zip(cities, nations, latitudes, longitudes):\n",
    "            \n",
    "        # create the API request URL\n",
    "        url = 'https://api.foursquare.com/v2/venues/explore?&section=topPicks&client_id={}&client_secret={}&v={}&ll={},{}&radius={}&limit={}'.format(\n",
    "            CLIENT_ID, \n",
    "            CLIENT_SECRET, \n",
    "            VERSION, \n",
    "            lat, \n",
    "            lon,\n",
    "            RADIUS,\n",
    "            LIMIT)\n",
    "            \n",
    "        # make the GET request\n",
    "        response = requests.get(url)\n",
    "        if response.status_code == requests.codes.ok:\n",
    "            results = response.json()[\"response\"]['groups'][0]['items']\n",
    "        else:\n",
    "            print (\"status was:\" + str(response.status_code))\n",
    "            print (\"could not scrape \" + url)\n",
    "            break\n",
    "        \n",
    "        print(\"City: {}, Nation: {}, results: {}\".format(city, nation, len(results)))\n",
    "        \n",
    "        # return only relevant information for each nearby venue\n",
    "        venues_list.append([(\n",
    "            city,\n",
    "            nation,\n",
    "            v['venue']['name'], \n",
    "            v['venue']['id'],\n",
    "            v['venue']['location']['lat'], \n",
    "            v['venue']['location']['lng'],  \n",
    "            v['venue']['categories'][0]['name']) for v in results])\n",
    "\n",
    "\n",
    "    nearby_venues = pd.DataFrame([item for venue_list in venues_list for item in venue_list])\n",
    "    nearby_venues.columns = ['City',\n",
    "                  'Nation',\n",
    "                  'Venue',\n",
    "                  'Venue ID',\n",
    "                  'Venue Latitude', \n",
    "                  'Venue Longitude', \n",
    "                  'Venue Category']\n",
    "    \n",
    "    return(nearby_venues)"
   ]
  },
  {
   "cell_type": "markdown",
   "metadata": {},
   "source": [
    "Now, actually run the above function for every city."
   ]
  },
  {
   "cell_type": "code",
   "execution_count": 15,
   "metadata": {},
   "outputs": [
    {
     "name": "stdout",
     "output_type": "stream",
     "text": [
      "City: Chongqing, Nation: China, results: 16\n",
      "City: Shanghai, Nation: China, results: 96\n",
      "City: Delhi, Nation: India, results: 100\n",
      "City: Beijing, Nation: China, results: 87\n",
      "City: Dhaka, Nation: Bangladesh, results: 83\n",
      "City: Mumbai, Nation: India, results: 100\n",
      "City: Lagos, Nation: Nigeria, results: 100\n",
      "City: Chengdu, Nation: China, results: 15\n",
      "City: Karachi, Nation: Pakistan, results: 100\n",
      "City: Guangzhou, Nation: China, results: 90\n",
      "City: Istanbul, Nation: Turkey, results: 100\n",
      "City: Tokyo, Nation: Japan, results: 28\n",
      "City: Tianjin, Nation: China, results: 34\n",
      "City: Moscow, Nation: Russia, results: 100\n",
      "City: São Paulo, Nation: Brazil, results: 100\n",
      "City: Kinshasa, Nation: DR Congo, results: 24\n",
      "City: Baoding, Nation: China, results: 3\n",
      "City: Lahore, Nation: Pakistan, results: 100\n",
      "City: Cairo, Nation: Egypt, results: 100\n",
      "City: Seoul, Nation: Korea, South, results: 62\n",
      "City: Jakarta, Nation: Indonesia, results: 100\n",
      "City: Wenzhou, Nation: China, results: 5\n",
      "City: Mexico City, Nation: Mexico, results: 94\n",
      "City: Lima, Nation: Peru, results: 100\n",
      "City: London, Nation: United Kingdom, results: 100\n",
      "City: Bangkok, Nation: Thailand, results: 68\n",
      "City: Xi'an, Nation: China, results: 22\n",
      "City: Chennai, Nation: India, results: 100\n",
      "City: Bangalore, Nation: India, results: 100\n",
      "City: New York City, Nation: United States, results: 100\n",
      "City: Ho Chi Minh City, Nation: Vietnam, results: 100\n",
      "City: Hyderabad, Nation: India, results: 100\n",
      "City: Shenzhen, Nation: China, results: 85\n",
      "City: Suzhou, Nation: China, results: 22\n",
      "City: Nanjing, Nation: China, results: 23\n",
      "City: Dongguan, Nation: China, results: 16\n",
      "City: Tehran, Nation: Iran, results: 100\n",
      "City: Quanzhou, Nation: China, results: 5\n",
      "City: Shenyang, Nation: China, results: 17\n",
      "City: Bogotá, Nation: Colombia, results: 87\n",
      "City: Hong Kong, Nation: China, results: 82\n",
      "City: Baghdad, Nation: Iraq, results: 62\n",
      "City: Fuzhou, Nation: China, results: 8\n",
      "City: Changsha, Nation: China, results: 9\n",
      "City: Wuhan, Nation: China, results: 14\n",
      "City: Hanoi, Nation: Vietnam, results: 100\n",
      "City: Rio de Janeiro, Nation: Brazil, results: 100\n",
      "City: Qingdao, Nation: China, results: 16\n",
      "City: Foshan, Nation: China, results: 30\n",
      "City: Zunyi, Nation: China, results: 6\n",
      "City: Santiago, Nation: Chile, results: 100\n",
      "City: Riyadh, Nation: Saudi Arabia, results: 100\n",
      "City: Ahmedabad, Nation: India, results: 100\n",
      "City: Singapore, Nation: Singapore, results: 100\n",
      "City: Shantou, Nation: China, results: 5\n",
      "City: Ankara, Nation: Turkey, results: 100\n",
      "City: Yangon, Nation: Myanmar, results: 45\n",
      "City: Saint Petersburg, Nation: Russia, results: 100\n",
      "City: Sydney, Nation: Australia, results: 4\n",
      "City: Casablanca, Nation: Morocco, results: 100\n",
      "City: Melbourne, Nation: Australia, results: 6\n",
      "City: Abidjan, Nation: Ivory Coast, results: 44\n",
      "City: Alexandria, Nation: Egypt, results: 100\n",
      "City: Kolkata, Nation: India, results: 93\n",
      "City: Surat, Nation: India, results: 52\n",
      "City: Johannesburg, Nation: South Africa, results: 100\n",
      "City: Dar es Salaam, Nation: Tanzania, results: 59\n",
      "City: Shijiazhuang, Nation: China, results: 4\n",
      "City: Harbin, Nation: China, results: 15\n",
      "City: Giza, Nation: Egypt, results: 100\n",
      "City: İzmir, Nation: Turkey, results: 100\n",
      "City: Zhengzhou, Nation: China, results: 6\n",
      "City: New Taipei City, Nation: Taiwan, results: 83\n",
      "City: Los Angeles, Nation: United States, results: 34\n",
      "City: Changchun, Nation: China, results: 9\n",
      "City: Cape Town, Nation: South Africa, results: 100\n",
      "City: Yokohama, Nation: Japan, results: 41\n",
      "City: Khartoum, Nation: Sudan, results: 100\n",
      "City: Guayaquil, Nation: Ecuador, results: 100\n",
      "City: Hangzhou, Nation: China, results: 39\n",
      "City: Xiamen, Nation: China, results: 36\n",
      "City: Berlin, Nation: Germany, results: 100\n",
      "City: Busan, Nation: Korea, South, results: 71\n",
      "City: Ningbo, Nation: China, results: 27\n",
      "City: Jeddah, Nation: Saudi Arabia, results: 100\n",
      "City: Durban, Nation: South Africa, results: 97\n",
      "City: Algiers, Nation: Algeria, results: 82\n",
      "City: Kabul, Nation: Afghanistan, results: 21\n",
      "City: Hefei, Nation: China, results: 13\n",
      "City: Mashhad, Nation: Iran, results: 81\n",
      "City: Pyongyang, Nation: Korea, North, results: 6\n",
      "City: Madrid, Nation: Spain, results: 100\n",
      "City: Faisalabad, Nation: Pakistan, results: 18\n",
      "City: Baku, Nation: Azerbaijan, results: 100\n",
      "City: Tangshan, Nation: China, results: 4\n",
      "City: Ekurhuleni, Nation: South Africa, results: 100\n",
      "City: Nairobi, Nation: Kenya, results: 100\n",
      "City: Zhongshan, Nation: China, results: 3\n",
      "City: Pune, Nation: India, results: 100\n",
      "City: Addis Ababa, Nation: Ethiopia, results: 30\n",
      "City: Jaipur, Nation: India, results: 38\n",
      "City: Buenos Aires, Nation: Argentina, results: 100\n",
      "City: Incheon, Nation: Korea, South, results: 50\n",
      "City: Quezon City, Nation: Philippines, results: 91\n",
      "City: Toronto, Nation: Canada, results: 100\n",
      "City: Kiev, Nation: Ukraine, results: 100\n",
      "City: Salvador, Nation: Brazil, results: 100\n",
      "City: Rome, Nation: Italy, results: 100\n",
      "City: Dubai, Nation: United Arab Emirates, results: 100\n",
      "City: Luanda, Nation: Angola, results: 53\n",
      "City: Lucknow, Nation: India, results: 37\n",
      "City: Kaohsiung, Nation: Taiwan, results: 38\n",
      "City: Kanpur, Nation: India, results: 15\n",
      "City: Surabaya, Nation: Indonesia, results: 100\n",
      "City: Taichung, Nation: Taiwan, results: 57\n",
      "City: Basra, Nation: Iraq, results: 13\n",
      "City: Taipei, Nation: Taiwan, results: 84\n",
      "City: Chicago, Nation: United States, results: 95\n",
      "City: Osaka, Nation: Japan, results: 34\n",
      "City: Quito, Nation: Ecuador, results: 100\n",
      "City: Chaozhou, Nation: China, results: 5\n",
      "City: Fortaleza, Nation: Brazil, results: 100\n",
      "City: Chittagong, Nation: Bangladesh, results: 28\n",
      "City: Bandung, Nation: Indonesia, results: 100\n",
      "City: Managua, Nation: Nicaragua, results: 79\n",
      "City: Brasília, Nation: Brazil, results: 100\n",
      "City: Belo Horizonte, Nation: Brazil, results: 100\n",
      "City: Daegu, Nation: Korea, South, results: 34\n",
      "City: Houston, Nation: United States, results: 100\n",
      "City: Douala, Nation: Cameroon, results: 36\n",
      "City: Medellin, Nation: Colombia, results: 97\n",
      "City: Yaoundé, Nation: Cameroon, results: 38\n",
      "City: Nagpur, Nation: India, results: 46\n",
      "City: Cali, Nation: Colombia, results: 100\n",
      "City: Tashkent, Nation: Uzbekistan, results: 100\n",
      "City: Nagoya, Nation: Japan, results: 33\n",
      "City: Isfahan, Nation: Iran, results: 100\n",
      "City: Phnom Penh, Nation: Cambodia, results: 64\n",
      "City: Paris, Nation: France, results: 100\n",
      "City: Ouagadougou, Nation: Burkina Faso, results: 8\n",
      "City: Lanzhou, Nation: China, results: 4\n",
      "City: Kano, Nation: Nigeria, results: 23\n",
      "City: Dalian, Nation: China, results: 31\n",
      "City: Guatemala City, Nation: Guatemala, results: 100\n",
      "City: Havana, Nation: Cuba, results: 55\n",
      "City: Rawalpindi, Nation: Pakistan, results: 100\n",
      "City: Medan, Nation: Indonesia, results: 100\n",
      "City: Accra, Nation: Ghana, results: 68\n",
      "City: Visakhapatnam, Nation: India, results: 46\n",
      "City: Gujranwala, Nation: Pakistan, results: 5\n",
      "City: Jinan, Nation: China, results: 7\n",
      "City: Karaj, Nation: Iran, results: 100\n",
      "City: Peshawar, Nation: Pakistan, results: 17\n",
      "City: Minsk, Nation: Belarus, results: 100\n",
      "City: Caracas, Nation: Venezuela, results: 100\n",
      "City: Sana'a, Nation: Yemen, results: 9\n",
      "City: Sapporo, Nation: Japan, results: 40\n",
      "City: Tainan, Nation: Taiwan, results: 31\n",
      "City: Bucharest, Nation: Romania, results: 100\n",
      "City: Curitiba, Nation: Brazil, results: 100\n",
      "City: Shiraz, Nation: Iran, results: 100\n",
      "City: Vienna, Nation: Austria, results: 100\n",
      "City: Brazzaville, Nation: Congo Republic, results: 24\n",
      "City: Bhopal, Nation: India, results: 26\n",
      "City: Almaty, Nation: Kazakhstan, results: 100\n",
      "City: Hamburg, Nation: Germany, results: 100\n",
      "City: Manila, Nation: Philippines, results: 91\n",
      "City: Kuala Lumpur, Nation: Malaysia, results: 87\n",
      "City: Maputo, Nation: Mozambique, results: 58\n",
      "City: Budapest, Nation: Hungary, results: 100\n",
      "City: Warsaw, Nation: Poland, results: 100\n",
      "City: Lusaka, Nation: Zambia, results: 39\n",
      "City: Kathmandu, Nation: Nepal, results: 51\n",
      "City: Tabriz, Nation: Iran, results: 100\n",
      "City: Hyderabad, Nation: Pakistan, results: 9\n",
      "City: Palembang, Nation: Indonesia, results: 60\n",
      "City: Tijuana, Nation: Mexico, results: 37\n",
      "City: Patna, Nation: India, results: 9\n",
      "City: Montreal, Nation: Canada, results: 100\n",
      "City: Davao City, Nation: Philippines, results: 75\n",
      "City: Harare, Nation: Zimbabwe, results: 59\n",
      "City: Barcelona, Nation: Spain, results: 100\n",
      "City: Maracaibo, Nation: Venezuela, results: 100\n",
      "City: Caloocan, Nation: Philippines, results: 92\n",
      "City: Philadelphia, Nation: United States, results: 100\n",
      "City: Novosibirsk, Nation: Russia, results: 100\n",
      "City: Phoenix, Nation: United States, results: 74\n",
      "City: Oran, Nation: Algeria, results: 26\n",
      "City: Semarang, Nation: Indonesia, results: 100\n",
      "City: Recife, Nation: Brazil, results: 100\n",
      "City: Kobe, Nation: Japan, results: 45\n",
      "City: Daejeon, Nation: Korea, South, results: 45\n",
      "City: Kampala, Nation: Uganda, results: 65\n",
      "City: Kawasaki, Nation: Japan, results: 38\n",
      "City: Guadalajara, Nation: Mexico, results: 81\n",
      "City: Auckland, Nation: New Zealand, results: 9\n",
      "City: Vijayawada, Nation: India, results: 33\n",
      "City: Fukuoka, Nation: Japan, results: 46\n",
      "City: Gwangju, Nation: Korea, South, results: 22\n",
      "City: Porto Alegre, Nation: Brazil, results: 100\n",
      "City: Kyoto, Nation: Japan, results: 16\n",
      "City: San Antonio, Nation: United States, results: 74\n",
      "City: Santa Cruz de la Sierra, Nation: Bolivia, results: 100\n",
      "City: Munich, Nation: Germany, results: 100\n",
      "City: Kharkiv, Nation: Ukraine, results: 100\n",
      "City: Yekaterinburg, Nation: Russia, results: 100\n",
      "City: San Diego, Nation: United States, results: 60\n",
      "City: Barranquilla, Nation: Colombia, results: 100\n",
      "City: Milan, Nation: Italy, results: 100\n",
      "City: Ibadan, Nation: Nigeria, results: 15\n",
      "City: Makassar, Nation: Indonesia, results: 97\n",
      "City: Córdoba, Nation: Argentina, results: 91\n",
      "City: Prague, Nation: Czech Republic, results: 100\n",
      "City: Mandalay, Nation: Myanmar, results: 27\n",
      "City: Dallas, Nation: United States, results: 75\n",
      "City: Montevideo, Nation: Uruguay, results: 100\n",
      "City: Qom, Nation: Iran, results: 36\n",
      "City: Ahvaz, Nation: Iran, results: 43\n",
      "City: Sofia, Nation: Bulgaria, results: 100\n",
      "City: Nizhny Novgorod, Nation: Russia, results: 100\n",
      "City: Abuja, Nation: Nigeria, results: 73\n",
      "City: Calgary, Nation: Canada, results: 56\n",
      "City: Saitama, Nation: Japan, results: 34\n",
      "City: Suwon, Nation: South Korea, results: 41\n",
      "City: Hiroshima, Nation: Japan, results: 34\n",
      "City: Rosario, Nation: Argentina, results: 100\n",
      "City: Brisbane, Nation: Australia, results: 25\n",
      "City: Allahabad, Nation: India, results: 8\n",
      "City: Belgrade, Nation: Serbia, results: 100\n",
      "City: Campinas, Nation: Brazil, results: 100\n",
      "City: Ulsan, Nation: Korea, South, results: 19\n",
      "City: Omsk, Nation: Russia, results: 74\n",
      "City: Dakar, Nation: Senegal, results: 77\n",
      "City: Abu Dhabi, Nation: United Arab Emirates, results: 100\n",
      "City: Monterrey, Nation: Mexico, results: 90\n",
      "City: Tripoli, Nation: Libya, results: 66\n",
      "City: Rostov-on-Don, Nation: Russia, results: 100\n",
      "City: T'bilisi, Nation: Georgia, results: 100\n",
      "City: Fez, Nation: Morocco, results: 55\n",
      "City: Birmingham, Nation: United Kingdom, results: 100\n",
      "City: Yerevan, Nation: Armenia, results: 100\n",
      "City: Cologne, Nation: Germany, results: 100\n",
      "City: Tunis, Nation: Tunisia, results: 100\n",
      "City: Bulawayo, Nation: Zimbabwe, results: 5\n",
      "City: Astana, Nation: Kazakhstan, results: 100\n",
      "City: Islamabad, Nation: Pakistan, results: 100\n",
      "City: Cartagena, Nation: Colombia, results: 83\n"
     ]
    }
   ],
   "source": [
    "df_venues = getRecommendedVenues(df_cities['City'], df_cities['Nation'], df_cities['Latitude'], df_cities['Longitude'])"
   ]
  },
  {
   "cell_type": "code",
   "execution_count": 16,
   "metadata": {},
   "outputs": [
    {
     "name": "stdout",
     "output_type": "stream",
     "text": [
      "Found 16421 venues for 247 different cities\n"
     ]
    },
    {
     "data": {
      "text/html": [
       "<div>\n",
       "<style scoped>\n",
       "    .dataframe tbody tr th:only-of-type {\n",
       "        vertical-align: middle;\n",
       "    }\n",
       "\n",
       "    .dataframe tbody tr th {\n",
       "        vertical-align: top;\n",
       "    }\n",
       "\n",
       "    .dataframe thead th {\n",
       "        text-align: right;\n",
       "    }\n",
       "</style>\n",
       "<table border=\"1\" class=\"dataframe\">\n",
       "  <thead>\n",
       "    <tr style=\"text-align: right;\">\n",
       "      <th></th>\n",
       "      <th>City</th>\n",
       "      <th>Nation</th>\n",
       "      <th>Venue</th>\n",
       "      <th>Venue ID</th>\n",
       "      <th>Venue Latitude</th>\n",
       "      <th>Venue Longitude</th>\n",
       "      <th>Venue Category</th>\n",
       "    </tr>\n",
       "  </thead>\n",
       "  <tbody>\n",
       "    <tr>\n",
       "      <th>0</th>\n",
       "      <td>Chongqing</td>\n",
       "      <td>China</td>\n",
       "      <td>Hongyadong (洪崖洞)</td>\n",
       "      <td>4bc830fa15a7ef3b9ca87ada</td>\n",
       "      <td>29.564942</td>\n",
       "      <td>106.574742</td>\n",
       "      <td>Shopping Mall</td>\n",
       "    </tr>\n",
       "    <tr>\n",
       "      <th>1</th>\n",
       "      <td>Chongqing</td>\n",
       "      <td>China</td>\n",
       "      <td>Paulaner Brauhaus</td>\n",
       "      <td>504e9876e4b0225693e3ddcb</td>\n",
       "      <td>29.538571</td>\n",
       "      <td>106.557791</td>\n",
       "      <td>German Restaurant</td>\n",
       "    </tr>\n",
       "    <tr>\n",
       "      <th>2</th>\n",
       "      <td>Chongqing</td>\n",
       "      <td>China</td>\n",
       "      <td>The Cactus</td>\n",
       "      <td>4df77dac45dd222116c98b42</td>\n",
       "      <td>29.565164</td>\n",
       "      <td>106.575347</td>\n",
       "      <td>Mexican Restaurant</td>\n",
       "    </tr>\n",
       "    <tr>\n",
       "      <th>3</th>\n",
       "      <td>Chongqing</td>\n",
       "      <td>China</td>\n",
       "      <td>观音桥步行街</td>\n",
       "      <td>4d4f81433626a093174511bd</td>\n",
       "      <td>29.577044</td>\n",
       "      <td>106.528655</td>\n",
       "      <td>Plaza</td>\n",
       "    </tr>\n",
       "    <tr>\n",
       "      <th>4</th>\n",
       "      <td>Chongqing</td>\n",
       "      <td>China</td>\n",
       "      <td>Blue Frog (蓝蛙)</td>\n",
       "      <td>565ab146498e3f29232c2f27</td>\n",
       "      <td>29.580209</td>\n",
       "      <td>106.528782</td>\n",
       "      <td>American Restaurant</td>\n",
       "    </tr>\n",
       "  </tbody>\n",
       "</table>\n",
       "</div>"
      ],
      "text/plain": [
       "        City Nation              Venue                  Venue ID  \\\n",
       "0  Chongqing  China   Hongyadong (洪崖洞)  4bc830fa15a7ef3b9ca87ada   \n",
       "1  Chongqing  China  Paulaner Brauhaus  504e9876e4b0225693e3ddcb   \n",
       "2  Chongqing  China         The Cactus  4df77dac45dd222116c98b42   \n",
       "3  Chongqing  China             观音桥步行街  4d4f81433626a093174511bd   \n",
       "4  Chongqing  China     Blue Frog (蓝蛙)  565ab146498e3f29232c2f27   \n",
       "\n",
       "   Venue Latitude  Venue Longitude       Venue Category  \n",
       "0       29.564942       106.574742        Shopping Mall  \n",
       "1       29.538571       106.557791    German Restaurant  \n",
       "2       29.565164       106.575347   Mexican Restaurant  \n",
       "3       29.577044       106.528655                Plaza  \n",
       "4       29.580209       106.528782  American Restaurant  "
      ]
     },
     "execution_count": 16,
     "metadata": {},
     "output_type": "execute_result"
    }
   ],
   "source": [
    "print (\"Found {} venues for {} different cities\".format(df_venues.shape[0], len(df_venues.groupby(['City', 'Nation']))))\n",
    "df_venues.head()"
   ]
  },
  {
   "cell_type": "markdown",
   "metadata": {},
   "source": [
    "That's looking pretty awesome. Now let's prevent more scraping by saving the dataframe to a file."
   ]
  },
  {
   "cell_type": "markdown",
   "metadata": {},
   "source": [
    "## 5. Joining the dataframe"
   ]
  },
  {
   "cell_type": "code",
   "execution_count": 17,
   "metadata": {},
   "outputs": [
    {
     "name": "stdout",
     "output_type": "stream",
     "text": [
      "The joined dataframe contains 247 different cities\n"
     ]
    },
    {
     "data": {
      "text/html": [
       "<div>\n",
       "<style scoped>\n",
       "    .dataframe tbody tr th:only-of-type {\n",
       "        vertical-align: middle;\n",
       "    }\n",
       "\n",
       "    .dataframe tbody tr th {\n",
       "        vertical-align: top;\n",
       "    }\n",
       "\n",
       "    .dataframe thead th {\n",
       "        text-align: right;\n",
       "    }\n",
       "</style>\n",
       "<table border=\"1\" class=\"dataframe\">\n",
       "  <thead>\n",
       "    <tr style=\"text-align: right;\">\n",
       "      <th></th>\n",
       "      <th>City</th>\n",
       "      <th>Nation</th>\n",
       "      <th>Venue</th>\n",
       "      <th>Venue ID</th>\n",
       "      <th>Venue Latitude</th>\n",
       "      <th>Venue Longitude</th>\n",
       "      <th>Venue Category</th>\n",
       "      <th>Population</th>\n",
       "      <th>URL</th>\n",
       "      <th>Latitude</th>\n",
       "      <th>Longitude</th>\n",
       "    </tr>\n",
       "  </thead>\n",
       "  <tbody>\n",
       "    <tr>\n",
       "      <th>0</th>\n",
       "      <td>Chongqing</td>\n",
       "      <td>China</td>\n",
       "      <td>Hongyadong (洪崖洞)</td>\n",
       "      <td>4bc830fa15a7ef3b9ca87ada</td>\n",
       "      <td>29.564942</td>\n",
       "      <td>106.574742</td>\n",
       "      <td>Shopping Mall</td>\n",
       "      <td>30751600</td>\n",
       "      <td>https://en.wikipedia.org/wiki/Chongqing</td>\n",
       "      <td>29.558333</td>\n",
       "      <td>106.566667</td>\n",
       "    </tr>\n",
       "    <tr>\n",
       "      <th>1</th>\n",
       "      <td>Chongqing</td>\n",
       "      <td>China</td>\n",
       "      <td>Paulaner Brauhaus</td>\n",
       "      <td>504e9876e4b0225693e3ddcb</td>\n",
       "      <td>29.538571</td>\n",
       "      <td>106.557791</td>\n",
       "      <td>German Restaurant</td>\n",
       "      <td>30751600</td>\n",
       "      <td>https://en.wikipedia.org/wiki/Chongqing</td>\n",
       "      <td>29.558333</td>\n",
       "      <td>106.566667</td>\n",
       "    </tr>\n",
       "    <tr>\n",
       "      <th>2</th>\n",
       "      <td>Chongqing</td>\n",
       "      <td>China</td>\n",
       "      <td>The Cactus</td>\n",
       "      <td>4df77dac45dd222116c98b42</td>\n",
       "      <td>29.565164</td>\n",
       "      <td>106.575347</td>\n",
       "      <td>Mexican Restaurant</td>\n",
       "      <td>30751600</td>\n",
       "      <td>https://en.wikipedia.org/wiki/Chongqing</td>\n",
       "      <td>29.558333</td>\n",
       "      <td>106.566667</td>\n",
       "    </tr>\n",
       "    <tr>\n",
       "      <th>3</th>\n",
       "      <td>Chongqing</td>\n",
       "      <td>China</td>\n",
       "      <td>观音桥步行街</td>\n",
       "      <td>4d4f81433626a093174511bd</td>\n",
       "      <td>29.577044</td>\n",
       "      <td>106.528655</td>\n",
       "      <td>Plaza</td>\n",
       "      <td>30751600</td>\n",
       "      <td>https://en.wikipedia.org/wiki/Chongqing</td>\n",
       "      <td>29.558333</td>\n",
       "      <td>106.566667</td>\n",
       "    </tr>\n",
       "    <tr>\n",
       "      <th>4</th>\n",
       "      <td>Chongqing</td>\n",
       "      <td>China</td>\n",
       "      <td>Blue Frog (蓝蛙)</td>\n",
       "      <td>565ab146498e3f29232c2f27</td>\n",
       "      <td>29.580209</td>\n",
       "      <td>106.528782</td>\n",
       "      <td>American Restaurant</td>\n",
       "      <td>30751600</td>\n",
       "      <td>https://en.wikipedia.org/wiki/Chongqing</td>\n",
       "      <td>29.558333</td>\n",
       "      <td>106.566667</td>\n",
       "    </tr>\n",
       "  </tbody>\n",
       "</table>\n",
       "</div>"
      ],
      "text/plain": [
       "        City Nation              Venue                  Venue ID  \\\n",
       "0  Chongqing  China   Hongyadong (洪崖洞)  4bc830fa15a7ef3b9ca87ada   \n",
       "1  Chongqing  China  Paulaner Brauhaus  504e9876e4b0225693e3ddcb   \n",
       "2  Chongqing  China         The Cactus  4df77dac45dd222116c98b42   \n",
       "3  Chongqing  China             观音桥步行街  4d4f81433626a093174511bd   \n",
       "4  Chongqing  China     Blue Frog (蓝蛙)  565ab146498e3f29232c2f27   \n",
       "\n",
       "   Venue Latitude  Venue Longitude       Venue Category Population  \\\n",
       "0       29.564942       106.574742        Shopping Mall   30751600   \n",
       "1       29.538571       106.557791    German Restaurant   30751600   \n",
       "2       29.565164       106.575347   Mexican Restaurant   30751600   \n",
       "3       29.577044       106.528655                Plaza   30751600   \n",
       "4       29.580209       106.528782  American Restaurant   30751600   \n",
       "\n",
       "                                       URL   Latitude   Longitude  \n",
       "0  https://en.wikipedia.org/wiki/Chongqing  29.558333  106.566667  \n",
       "1  https://en.wikipedia.org/wiki/Chongqing  29.558333  106.566667  \n",
       "2  https://en.wikipedia.org/wiki/Chongqing  29.558333  106.566667  \n",
       "3  https://en.wikipedia.org/wiki/Chongqing  29.558333  106.566667  \n",
       "4  https://en.wikipedia.org/wiki/Chongqing  29.558333  106.566667  "
      ]
     },
     "execution_count": 17,
     "metadata": {},
     "output_type": "execute_result"
    }
   ],
   "source": [
    "df_joined = pd.merge(df_venues, df_cities, on=['City','Nation'])\n",
    "print (\"The joined dataframe contains {} different cities\".format(len(df_joined.groupby(['City', 'Nation']))))\n",
    "df_joined.head()"
   ]
  },
  {
   "cell_type": "markdown",
   "metadata": {},
   "source": [
    "## 6. Saving the dataframes"
   ]
  },
  {
   "cell_type": "markdown",
   "metadata": {},
   "source": [
    "We export the dataframes so we don't have to scrape again.  \n",
    "First as CSV, as this is a very generic format.  \n",
    "Secondly as pickle, since this is a quick way to import the dataframe again."
   ]
  },
  {
   "cell_type": "code",
   "execution_count": 18,
   "metadata": {},
   "outputs": [],
   "source": [
    "# export both dataframes as CSV\n",
    "df_cities.to_csv('cities.csv')\n",
    "df_venues.to_csv('venues.csv')\n",
    "df_joined.to_csv('joined.cvs')"
   ]
  },
  {
   "cell_type": "code",
   "execution_count": 19,
   "metadata": {},
   "outputs": [],
   "source": [
    "# export both dataframe as pickles\n",
    "df_cities.to_pickle('cities.pickle')\n",
    "df_venues.to_pickle('venues.pickle')\n",
    "df_joined.to_pickle('joined.pickle')"
   ]
  }
 ],
 "metadata": {
  "kernelspec": {
   "display_name": "Python 3",
   "language": "python",
   "name": "python3"
  },
  "language_info": {
   "codemirror_mode": {
    "name": "ipython",
    "version": 3
   },
   "file_extension": ".py",
   "mimetype": "text/x-python",
   "name": "python",
   "nbconvert_exporter": "python",
   "pygments_lexer": "ipython3",
   "version": "3.6.7"
  }
 },
 "nbformat": 4,
 "nbformat_minor": 2
}
