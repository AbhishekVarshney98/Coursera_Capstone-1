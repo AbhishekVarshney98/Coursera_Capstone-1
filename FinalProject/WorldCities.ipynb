{
 "cells": [
  {
   "cell_type": "markdown",
   "metadata": {},
   "source": [
    "## Imports and such things"
   ]
  },
  {
   "cell_type": "code",
   "execution_count": 1,
   "metadata": {},
   "outputs": [],
   "source": [
    "import urllib.request\n",
    "from bs4 import BeautifulSoup\n",
    "import pandas as pd\n",
    "pd.set_option('display.max_columns', None)\n",
    "pd.set_option('display.max_rows', None)\n",
    "import folium\n",
    "import requests\n",
    "import numpy as np\n",
    "from sklearn.cluster import KMeans\n",
    "import matplotlib.cm as cm\n",
    "import matplotlib.colors as colors\n",
    "import re"
   ]
  },
  {
   "cell_type": "markdown",
   "metadata": {},
   "source": [
    "## Scrape list of largest cities from Wikipedia"
   ]
  },
  {
   "cell_type": "markdown",
   "metadata": {},
   "source": [
    "The wikipedia page [List of largest cities](https://en.wikipedia.org/wiki/List_of_largest_cities) has a list of the largest cities in the world.  \n",
    "We are interested in table that contains the actual cities, and want the cityname, the nation, and its city proper population.  \n",
    "In addition, we grab the link to said cities' page, to later scrape more information.\n",
    "\n",
    "We will first use urllib to fetch the page, then BeautifulSoup to parse it and find the first (and only) sortable table."
   ]
  },
  {
   "cell_type": "code",
   "execution_count": 2,
   "metadata": {},
   "outputs": [],
   "source": [
    "# location of the wikipedia article\n",
    "url = \"https://en.wikipedia.org/wiki/List_of_largest_cities\"\n",
    "\n",
    "# fetch the article\n",
    "req = urllib.request.urlopen(url)\n",
    "article = req.read().decode()\n",
    "\n",
    "# parse with BeautifulSoup and find the first sortable table\n",
    "soup = BeautifulSoup(article, 'html.parser')\n",
    "table = soup.find('table', class_='sortable')"
   ]
  },
  {
   "cell_type": "markdown",
   "metadata": {},
   "source": [
    "Every row in the table will also have a link to the cities wikipedia page. We will use the following function to scrape specific information from that page."
   ]
  },
  {
   "cell_type": "code",
   "execution_count": 3,
   "metadata": {},
   "outputs": [],
   "source": [
    "# create an empty DataFrame\n",
    "cols=[\"City\", \"Nation\", \"Population\", \"URL\"]\n",
    "df_cities = pd.DataFrame(columns=cols)\n",
    "df_cities['Population'].astype(int)\n",
    "    \n",
    "# iterate trough all the rows in the table:\n",
    "for tr in table.find_all('tr', limit=6):\n",
    "    tds = tr.find_all('td')\n",
    "    if not tds:\n",
    "        continue                            # skips first row with headings\n",
    "    nation = tds[0].find('a').string        # first td column contains nation   \n",
    "    try:\n",
    "        pop = int(re.compile(r'\\[.*\\]').sub(\"\",tds[2].text).replace(',',''))  # rough but working way to parse the population count\n",
    "    except ValueError:\n",
    "        pop = 0\n",
    "    city_a = tr.find('th').find('a')        # the first column contains th tag and contains the <a> link to the city\n",
    "    city = city_a.string\n",
    "    url = \"https://en.wikipedia.org\" + city_a['href']\n",
    "    df_cities = df_cities.append({\n",
    "        'City': city, \n",
    "        'Nation': nation, \n",
    "        'Population': pop, \n",
    "        'URL': url\n",
    "    }, ignore_index=True)"
   ]
  },
  {
   "cell_type": "code",
   "execution_count": 4,
   "metadata": {},
   "outputs": [
    {
     "data": {
      "text/html": [
       "<div>\n",
       "<style scoped>\n",
       "    .dataframe tbody tr th:only-of-type {\n",
       "        vertical-align: middle;\n",
       "    }\n",
       "\n",
       "    .dataframe tbody tr th {\n",
       "        vertical-align: top;\n",
       "    }\n",
       "\n",
       "    .dataframe thead th {\n",
       "        text-align: right;\n",
       "    }\n",
       "</style>\n",
       "<table border=\"1\" class=\"dataframe\">\n",
       "  <thead>\n",
       "    <tr style=\"text-align: right;\">\n",
       "      <th></th>\n",
       "      <th>City</th>\n",
       "      <th>Nation</th>\n",
       "      <th>Population</th>\n",
       "      <th>URL</th>\n",
       "    </tr>\n",
       "  </thead>\n",
       "  <tbody>\n",
       "    <tr>\n",
       "      <th>0</th>\n",
       "      <td>Chongqing</td>\n",
       "      <td>China</td>\n",
       "      <td>30751600</td>\n",
       "      <td>https://en.wikipedia.org/wiki/Chongqing</td>\n",
       "    </tr>\n",
       "    <tr>\n",
       "      <th>1</th>\n",
       "      <td>Shanghai</td>\n",
       "      <td>China</td>\n",
       "      <td>24256800</td>\n",
       "      <td>https://en.wikipedia.org/wiki/Shanghai</td>\n",
       "    </tr>\n",
       "    <tr>\n",
       "      <th>2</th>\n",
       "      <td>Delhi</td>\n",
       "      <td>India</td>\n",
       "      <td>11034555</td>\n",
       "      <td>https://en.wikipedia.org/wiki/Delhi</td>\n",
       "    </tr>\n",
       "    <tr>\n",
       "      <th>3</th>\n",
       "      <td>Beijing</td>\n",
       "      <td>China</td>\n",
       "      <td>21516000</td>\n",
       "      <td>https://en.wikipedia.org/wiki/Beijing</td>\n",
       "    </tr>\n",
       "  </tbody>\n",
       "</table>\n",
       "</div>"
      ],
      "text/plain": [
       "        City Nation Population                                      URL\n",
       "0  Chongqing  China   30751600  https://en.wikipedia.org/wiki/Chongqing\n",
       "1   Shanghai  China   24256800   https://en.wikipedia.org/wiki/Shanghai\n",
       "2      Delhi  India   11034555      https://en.wikipedia.org/wiki/Delhi\n",
       "3    Beijing  China   21516000    https://en.wikipedia.org/wiki/Beijing"
      ]
     },
     "execution_count": 4,
     "metadata": {},
     "output_type": "execute_result"
    }
   ],
   "source": [
    "df_cities.head()"
   ]
  },
  {
   "cell_type": "markdown",
   "metadata": {},
   "source": [
    "## Adding geopositioning data\n",
    "\n",
    "We can scrape the geoposition coordinates for every city from the respective city page.  \n",
    "The following function scrape the city page and uses a simple regular expression to capture the coordinates."
   ]
  },
  {
   "cell_type": "code",
   "execution_count": 5,
   "metadata": {},
   "outputs": [],
   "source": [
    "# Scrape an individual cities page for its coordinates\n",
    "def scrape_city_coords(url):\n",
    "    req = urllib.request.urlopen(url)\n",
    "    article = req.read().decode()\n",
    "    reg = re.search(r'\"lat\":(.*?),\"lon\":(.*?)}', article)\n",
    "    lat = float(reg.group(1))\n",
    "    lon = float(reg.group(2))\n",
    "    return lat,lon"
   ]
  },
  {
   "cell_type": "code",
   "execution_count": 6,
   "metadata": {},
   "outputs": [],
   "source": [
    "df_cities[\"Latitude\"], df_cities[\"Longitude\"] = zip(*df_cities[\"URL\"].map(scrape_city_coords))"
   ]
  },
  {
   "cell_type": "code",
   "execution_count": 7,
   "metadata": {},
   "outputs": [
    {
     "data": {
      "text/html": [
       "<div>\n",
       "<style scoped>\n",
       "    .dataframe tbody tr th:only-of-type {\n",
       "        vertical-align: middle;\n",
       "    }\n",
       "\n",
       "    .dataframe tbody tr th {\n",
       "        vertical-align: top;\n",
       "    }\n",
       "\n",
       "    .dataframe thead th {\n",
       "        text-align: right;\n",
       "    }\n",
       "</style>\n",
       "<table border=\"1\" class=\"dataframe\">\n",
       "  <thead>\n",
       "    <tr style=\"text-align: right;\">\n",
       "      <th></th>\n",
       "      <th>City</th>\n",
       "      <th>Nation</th>\n",
       "      <th>Population</th>\n",
       "      <th>URL</th>\n",
       "      <th>Latitude</th>\n",
       "      <th>Longitude</th>\n",
       "    </tr>\n",
       "  </thead>\n",
       "  <tbody>\n",
       "    <tr>\n",
       "      <th>0</th>\n",
       "      <td>Chongqing</td>\n",
       "      <td>China</td>\n",
       "      <td>30751600</td>\n",
       "      <td>https://en.wikipedia.org/wiki/Chongqing</td>\n",
       "      <td>29.558333</td>\n",
       "      <td>106.566667</td>\n",
       "    </tr>\n",
       "    <tr>\n",
       "      <th>1</th>\n",
       "      <td>Shanghai</td>\n",
       "      <td>China</td>\n",
       "      <td>24256800</td>\n",
       "      <td>https://en.wikipedia.org/wiki/Shanghai</td>\n",
       "      <td>31.228611</td>\n",
       "      <td>121.474722</td>\n",
       "    </tr>\n",
       "    <tr>\n",
       "      <th>2</th>\n",
       "      <td>Delhi</td>\n",
       "      <td>India</td>\n",
       "      <td>11034555</td>\n",
       "      <td>https://en.wikipedia.org/wiki/Delhi</td>\n",
       "      <td>28.610000</td>\n",
       "      <td>77.230000</td>\n",
       "    </tr>\n",
       "    <tr>\n",
       "      <th>3</th>\n",
       "      <td>Beijing</td>\n",
       "      <td>China</td>\n",
       "      <td>21516000</td>\n",
       "      <td>https://en.wikipedia.org/wiki/Beijing</td>\n",
       "      <td>39.916667</td>\n",
       "      <td>116.383333</td>\n",
       "    </tr>\n",
       "  </tbody>\n",
       "</table>\n",
       "</div>"
      ],
      "text/plain": [
       "        City Nation Population                                      URL  \\\n",
       "0  Chongqing  China   30751600  https://en.wikipedia.org/wiki/Chongqing   \n",
       "1   Shanghai  China   24256800   https://en.wikipedia.org/wiki/Shanghai   \n",
       "2      Delhi  India   11034555      https://en.wikipedia.org/wiki/Delhi   \n",
       "3    Beijing  China   21516000    https://en.wikipedia.org/wiki/Beijing   \n",
       "\n",
       "    Latitude   Longitude  \n",
       "0  29.558333  106.566667  \n",
       "1  31.228611  121.474722  \n",
       "2  28.610000   77.230000  \n",
       "3  39.916667  116.383333  "
      ]
     },
     "execution_count": 7,
     "metadata": {},
     "output_type": "execute_result"
    }
   ],
   "source": [
    "df_cities.head()"
   ]
  },
  {
   "cell_type": "code",
   "execution_count": 8,
   "metadata": {},
   "outputs": [
    {
     "name": "stdout",
     "output_type": "stream",
     "text": [
      "<re.Match object; span=(10208, 18301), match='<th colspan=\"2\" style=\"text-align:center;font-siz>\n"
     ]
    }
   ],
   "source": [
    "article = urllib.request.urlopen(\"https://en.wikipedia.org/wiki/Chongqing\").read().decode()\n",
    "reg = re.search(r'<th.*?Population.*?<td>.*?</td>', article)\n",
    "print(reg)"
   ]
  },
  {
   "cell_type": "markdown",
   "metadata": {},
   "source": [
    "## Putting these cities on the map"
   ]
  },
  {
   "cell_type": "code",
   "execution_count": 9,
   "metadata": {},
   "outputs": [
    {
     "data": {
      "text/html": [
       "<div style=\"width:100%;\"><div style=\"position:relative;width:100%;height:0;padding-bottom:60%;\"><iframe src=\"data:text/html;charset=utf-8;base64,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\" style=\"position:absolute;width:100%;height:100%;left:0;top:0;border:none !important;\" allowfullscreen webkitallowfullscreen mozallowfullscreen></iframe></div></div>"
      ],
      "text/plain": [
       "<folium.folium.Map at 0x1ef4fd4e160>"
      ]
     },
     "execution_count": 9,
     "metadata": {},
     "output_type": "execute_result"
    }
   ],
   "source": [
    "# create map of the world using latitude and longitude values\n",
    "map_world = folium.Map(location=[0,0],zoom_start=2)\n",
    "\n",
    "# add markers to map\n",
    "for lat, lng, city, nation, pop in zip(df_cities['Latitude'], df_cities['Longitude'], df_cities['City'], df_cities['Nation'], df_cities['Population']):\n",
    "    label = '{}, {}: {}'.format(city, nation, pop)\n",
    "    label = folium.Popup(label)\n",
    "    folium.CircleMarker(\n",
    "        [lat, lng],\n",
    "        radius=5,\n",
    "        popup=label,\n",
    "        color='blue',\n",
    "        fill=True,\n",
    "        fill_color='#3186cc',\n",
    "    ).add_to(map_world)  \n",
    "    \n",
    "map_world"
   ]
  },
  {
   "cell_type": "markdown",
   "metadata": {},
   "source": [
    "## Getting more information from Foursquare"
   ]
  },
  {
   "cell_type": "markdown",
   "metadata": {},
   "source": [
    "This information is needed to connect with Foursquare API"
   ]
  },
  {
   "cell_type": "code",
   "execution_count": 10,
   "metadata": {},
   "outputs": [],
   "source": [
    "CLIENT_ID = 'YPBVFDUZOP1M24BKCWGXIYZ3RFACOE3V35WSFY4DSCMRU44L' # your Foursquare ID\n",
    "CLIENT_SECRET = 'VYHYTBSRIZBPYAOCP5ZEFV3YM4C40YEQCQWCUO4NC1JTPNJM' # your Foursquare Secret\n",
    "VERSION = '20180605' # Foursquare API version\n",
    "LIMIT = 100"
   ]
  },
  {
   "cell_type": "code",
   "execution_count": 11,
   "metadata": {},
   "outputs": [],
   "source": [
    "def getRecommendedVenues(cities, latitudes, longitudes):\n",
    "    \n",
    "    venues_list=[]\n",
    "    for city, lat, lon in zip(cities, latitudes, longitudes):\n",
    "        \n",
    "        print(\"city:\" + city)\n",
    "            \n",
    "        # create the API request URL\n",
    "        url = 'https://api.foursquare.com/v2/venues/explore?&section=topPicks&client_id={}&client_secret={}&v={}&ll={},{}&limit={}'.format(\n",
    "            CLIENT_ID, \n",
    "            CLIENT_SECRET, \n",
    "            VERSION, \n",
    "            lat, \n",
    "            lon, \n",
    "            5)\n",
    "            \n",
    "        # make the GET request\n",
    "        response = requests.get(url)\n",
    "        if response.status_code == requests.codes.ok:\n",
    "            results = response.json()[\"response\"]['groups'][0]['items']\n",
    "        else:\n",
    "            print (\"status was:\" + str(response.status_code))\n",
    "            print (response)\n",
    "            continue\n",
    "        \n",
    "        # return only relevant information for each nearby venue\n",
    "        venues_list.append([(\n",
    "            city,\n",
    "            lat, \n",
    "            lon, \n",
    "            v['venue']['name'], \n",
    "            v['venue']['location']['lat'], \n",
    "            v['venue']['location']['lng'],  \n",
    "            v['venue']['categories'][0]['name']) for v in results])\n",
    "\n",
    "\n",
    "    nearby_venues = pd.DataFrame([item for venue_list in venues_list for item in venue_list])\n",
    "    nearby_venues.columns = ['City',\n",
    "                  'Latitude', \n",
    "                  'Longitude', \n",
    "                  'Venue', \n",
    "                  'Venue Latitude', \n",
    "                  'Venue Longitude', \n",
    "                  'Venue Category']\n",
    "    \n",
    "    return(nearby_venues)"
   ]
  },
  {
   "cell_type": "code",
   "execution_count": 12,
   "metadata": {},
   "outputs": [
    {
     "name": "stdout",
     "output_type": "stream",
     "text": [
      "city:Chongqing\n",
      "city:Shanghai\n",
      "city:Delhi\n",
      "city:Beijing\n"
     ]
    },
    {
     "data": {
      "text/html": [
       "<div>\n",
       "<style scoped>\n",
       "    .dataframe tbody tr th:only-of-type {\n",
       "        vertical-align: middle;\n",
       "    }\n",
       "\n",
       "    .dataframe tbody tr th {\n",
       "        vertical-align: top;\n",
       "    }\n",
       "\n",
       "    .dataframe thead th {\n",
       "        text-align: right;\n",
       "    }\n",
       "</style>\n",
       "<table border=\"1\" class=\"dataframe\">\n",
       "  <thead>\n",
       "    <tr style=\"text-align: right;\">\n",
       "      <th></th>\n",
       "      <th>City</th>\n",
       "      <th>Latitude</th>\n",
       "      <th>Longitude</th>\n",
       "      <th>Venue</th>\n",
       "      <th>Venue Latitude</th>\n",
       "      <th>Venue Longitude</th>\n",
       "      <th>Venue Category</th>\n",
       "    </tr>\n",
       "  </thead>\n",
       "  <tbody>\n",
       "    <tr>\n",
       "      <th>0</th>\n",
       "      <td>Chongqing</td>\n",
       "      <td>29.558333</td>\n",
       "      <td>106.566667</td>\n",
       "      <td>The Cactus</td>\n",
       "      <td>29.565164</td>\n",
       "      <td>106.575347</td>\n",
       "      <td>Mexican Restaurant</td>\n",
       "    </tr>\n",
       "    <tr>\n",
       "      <th>1</th>\n",
       "      <td>Chongqing</td>\n",
       "      <td>29.558333</td>\n",
       "      <td>106.566667</td>\n",
       "      <td>一棵树</td>\n",
       "      <td>29.548330</td>\n",
       "      <td>106.598140</td>\n",
       "      <td>Scenic Lookout</td>\n",
       "    </tr>\n",
       "    <tr>\n",
       "      <th>2</th>\n",
       "      <td>Chongqing</td>\n",
       "      <td>29.558333</td>\n",
       "      <td>106.566667</td>\n",
       "      <td>重庆国泰艺术中心 Cathay Pacific Art Centre</td>\n",
       "      <td>29.563591</td>\n",
       "      <td>106.574421</td>\n",
       "      <td>Public Art</td>\n",
       "    </tr>\n",
       "    <tr>\n",
       "      <th>3</th>\n",
       "      <td>Chongqing</td>\n",
       "      <td>29.558333</td>\n",
       "      <td>106.566667</td>\n",
       "      <td>Paulaner Brauhaus</td>\n",
       "      <td>29.538571</td>\n",
       "      <td>106.557791</td>\n",
       "      <td>German Restaurant</td>\n",
       "    </tr>\n",
       "    <tr>\n",
       "      <th>4</th>\n",
       "      <td>Chongqing</td>\n",
       "      <td>29.558333</td>\n",
       "      <td>106.566667</td>\n",
       "      <td>重庆Muse酒吧</td>\n",
       "      <td>29.556987</td>\n",
       "      <td>106.571565</td>\n",
       "      <td>Nightclub</td>\n",
       "    </tr>\n",
       "  </tbody>\n",
       "</table>\n",
       "</div>"
      ],
      "text/plain": [
       "        City   Latitude   Longitude                               Venue  \\\n",
       "0  Chongqing  29.558333  106.566667                          The Cactus   \n",
       "1  Chongqing  29.558333  106.566667                                 一棵树   \n",
       "2  Chongqing  29.558333  106.566667  重庆国泰艺术中心 Cathay Pacific Art Centre   \n",
       "3  Chongqing  29.558333  106.566667                   Paulaner Brauhaus   \n",
       "4  Chongqing  29.558333  106.566667                            重庆Muse酒吧   \n",
       "\n",
       "   Venue Latitude  Venue Longitude      Venue Category  \n",
       "0       29.565164       106.575347  Mexican Restaurant  \n",
       "1       29.548330       106.598140      Scenic Lookout  \n",
       "2       29.563591       106.574421          Public Art  \n",
       "3       29.538571       106.557791   German Restaurant  \n",
       "4       29.556987       106.571565           Nightclub  "
      ]
     },
     "execution_count": 12,
     "metadata": {},
     "output_type": "execute_result"
    }
   ],
   "source": [
    "world_venues = getRecommendedVenues(df_cities['City'], df_cities['Latitude'], df_cities['Longitude'])\n",
    "world_venues.head()"
   ]
  },
  {
   "cell_type": "markdown",
   "metadata": {},
   "source": [
    "That's looking pretty awesome. Now let's prevent more scraping by saving the dataframe to a file."
   ]
  },
  {
   "cell_type": "code",
   "execution_count": 13,
   "metadata": {},
   "outputs": [],
   "source": [
    "df_cities.to_csv('cities.csv')\n",
    "world_venues.to_csv('venues.csv')"
   ]
  },
  {
   "cell_type": "code",
   "execution_count": 14,
   "metadata": {},
   "outputs": [
    {
     "data": {
      "text/html": [
       "<div>\n",
       "<style scoped>\n",
       "    .dataframe tbody tr th:only-of-type {\n",
       "        vertical-align: middle;\n",
       "    }\n",
       "\n",
       "    .dataframe tbody tr th {\n",
       "        vertical-align: top;\n",
       "    }\n",
       "\n",
       "    .dataframe thead th {\n",
       "        text-align: right;\n",
       "    }\n",
       "</style>\n",
       "<table border=\"1\" class=\"dataframe\">\n",
       "  <thead>\n",
       "    <tr style=\"text-align: right;\">\n",
       "      <th></th>\n",
       "      <th>Latitude</th>\n",
       "      <th>Longitude</th>\n",
       "      <th>Venue Latitude</th>\n",
       "      <th>Venue Longitude</th>\n",
       "    </tr>\n",
       "  </thead>\n",
       "  <tbody>\n",
       "    <tr>\n",
       "      <th>count</th>\n",
       "      <td>20.000000</td>\n",
       "      <td>20.000000</td>\n",
       "      <td>20.000000</td>\n",
       "      <td>20.000000</td>\n",
       "    </tr>\n",
       "    <tr>\n",
       "      <th>mean</th>\n",
       "      <td>32.328403</td>\n",
       "      <td>105.413681</td>\n",
       "      <td>32.326922</td>\n",
       "      <td>105.418236</td>\n",
       "    </tr>\n",
       "    <tr>\n",
       "      <th>std</th>\n",
       "      <td>4.596655</td>\n",
       "      <td>17.576446</td>\n",
       "      <td>4.598869</td>\n",
       "      <td>17.577822</td>\n",
       "    </tr>\n",
       "    <tr>\n",
       "      <th>min</th>\n",
       "      <td>28.610000</td>\n",
       "      <td>77.230000</td>\n",
       "      <td>28.591669</td>\n",
       "      <td>77.218292</td>\n",
       "    </tr>\n",
       "    <tr>\n",
       "      <th>25%</th>\n",
       "      <td>29.321250</td>\n",
       "      <td>99.232500</td>\n",
       "      <td>29.312281</td>\n",
       "      <td>99.227876</td>\n",
       "    </tr>\n",
       "    <tr>\n",
       "      <th>50%</th>\n",
       "      <td>30.393472</td>\n",
       "      <td>111.475000</td>\n",
       "      <td>30.393822</td>\n",
       "      <td>111.490841</td>\n",
       "    </tr>\n",
       "    <tr>\n",
       "      <th>75%</th>\n",
       "      <td>33.400625</td>\n",
       "      <td>117.656181</td>\n",
       "      <td>33.401693</td>\n",
       "      <td>117.671893</td>\n",
       "    </tr>\n",
       "    <tr>\n",
       "      <th>max</th>\n",
       "      <td>39.916667</td>\n",
       "      <td>121.474722</td>\n",
       "      <td>39.932446</td>\n",
       "      <td>121.477331</td>\n",
       "    </tr>\n",
       "  </tbody>\n",
       "</table>\n",
       "</div>"
      ],
      "text/plain": [
       "        Latitude   Longitude  Venue Latitude  Venue Longitude\n",
       "count  20.000000   20.000000       20.000000        20.000000\n",
       "mean   32.328403  105.413681       32.326922       105.418236\n",
       "std     4.596655   17.576446        4.598869        17.577822\n",
       "min    28.610000   77.230000       28.591669        77.218292\n",
       "25%    29.321250   99.232500       29.312281        99.227876\n",
       "50%    30.393472  111.475000       30.393822       111.490841\n",
       "75%    33.400625  117.656181       33.401693       117.671893\n",
       "max    39.916667  121.474722       39.932446       121.477331"
      ]
     },
     "execution_count": 14,
     "metadata": {},
     "output_type": "execute_result"
    }
   ],
   "source": [
    "world_venues.describe()"
   ]
  },
  {
   "cell_type": "markdown",
   "metadata": {},
   "source": [
    "## Putting all venues on a map"
   ]
  },
  {
   "cell_type": "code",
   "execution_count": 15,
   "metadata": {},
   "outputs": [
    {
     "data": {
      "text/html": [
       "<div style=\"width:100%;\"><div style=\"position:relative;width:100%;height:0;padding-bottom:60%;\"><iframe src=\"data:text/html;charset=utf-8;base64,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\" style=\"position:absolute;width:100%;height:100%;left:0;top:0;border:none !important;\" allowfullscreen webkitallowfullscreen mozallowfullscreen></iframe></div></div>"
      ],
      "text/plain": [
       "<folium.folium.Map at 0x1ef4f1ae240>"
      ]
     },
     "execution_count": 15,
     "metadata": {},
     "output_type": "execute_result"
    }
   ],
   "source": [
    "# create map of the world using latitude and longitude values\n",
    "map_venues = folium.Map(location=[0,0],zoom_start=2)\n",
    "\n",
    "# add markers to map\n",
    "for lat, lng, city, venue in zip(world_venues['Venue Latitude'], world_venues['Venue Longitude'], world_venues['City'],  world_venues['Venue']):\n",
    "    label = '{}: {}'.format(city, venue)\n",
    "    label = folium.Popup(label)\n",
    "    folium.CircleMarker(\n",
    "        [lat, lng],\n",
    "        radius=5,\n",
    "        popup=label,\n",
    "        color='blue',\n",
    "        fill=True,\n",
    "        fill_color='#3186cc',\n",
    "    ).add_to(map_venues)  \n",
    "    \n",
    "map_venues"
   ]
  },
  {
   "cell_type": "code",
   "execution_count": null,
   "metadata": {},
   "outputs": [],
   "source": []
  }
 ],
 "metadata": {
  "kernelspec": {
   "display_name": "Python 3",
   "language": "python",
   "name": "python3"
  },
  "language_info": {
   "codemirror_mode": {
    "name": "ipython",
    "version": 3
   },
   "file_extension": ".py",
   "mimetype": "text/x-python",
   "name": "python",
   "nbconvert_exporter": "python",
   "pygments_lexer": "ipython3",
   "version": "3.7.0"
  }
 },
 "nbformat": 4,
 "nbformat_minor": 2
}
