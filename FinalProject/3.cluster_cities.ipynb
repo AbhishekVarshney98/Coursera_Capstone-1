{
 "cells": [
  {
   "cell_type": "markdown",
   "metadata": {},
   "source": [
    "# Clustering cities depending on their most common features"
   ]
  },
  {
   "cell_type": "markdown",
   "metadata": {},
   "source": [
    "## 1. Imports and such things"
   ]
  },
  {
   "cell_type": "markdown",
   "metadata": {},
   "source": [
    "Use pandas to handle dataframes"
   ]
  },
  {
   "cell_type": "code",
   "execution_count": 1,
   "metadata": {},
   "outputs": [],
   "source": [
    "import pandas as pd"
   ]
  },
  {
   "cell_type": "markdown",
   "metadata": {},
   "source": [
    "Use Scikit-learn to do clustering"
   ]
  },
  {
   "cell_type": "code",
   "execution_count": 2,
   "metadata": {},
   "outputs": [],
   "source": [
    "from sklearn.cluster import KMeans"
   ]
  },
  {
   "cell_type": "markdown",
   "metadata": {},
   "source": [
    "## 2. Import dataframes from notebook 1"
   ]
  },
  {
   "cell_type": "markdown",
   "metadata": {},
   "source": [
    "This dataframe contains Cities, with their nation, population, Wikipedia URL, Latitude and Longitude"
   ]
  },
  {
   "cell_type": "code",
   "execution_count": 3,
   "metadata": {},
   "outputs": [
    {
     "data": {
      "text/html": [
       "<div>\n",
       "<style scoped>\n",
       "    .dataframe tbody tr th:only-of-type {\n",
       "        vertical-align: middle;\n",
       "    }\n",
       "\n",
       "    .dataframe tbody tr th {\n",
       "        vertical-align: top;\n",
       "    }\n",
       "\n",
       "    .dataframe thead th {\n",
       "        text-align: right;\n",
       "    }\n",
       "</style>\n",
       "<table border=\"1\" class=\"dataframe\">\n",
       "  <thead>\n",
       "    <tr style=\"text-align: right;\">\n",
       "      <th></th>\n",
       "      <th>City</th>\n",
       "      <th>Nation</th>\n",
       "      <th>Population</th>\n",
       "      <th>URL</th>\n",
       "      <th>Latitude</th>\n",
       "      <th>Longitude</th>\n",
       "    </tr>\n",
       "  </thead>\n",
       "  <tbody>\n",
       "    <tr>\n",
       "      <th>0</th>\n",
       "      <td>Chongqing</td>\n",
       "      <td>China</td>\n",
       "      <td>30751600</td>\n",
       "      <td>https://en.wikipedia.org/wiki/Chongqing</td>\n",
       "      <td>29.558333</td>\n",
       "      <td>106.566667</td>\n",
       "    </tr>\n",
       "    <tr>\n",
       "      <th>1</th>\n",
       "      <td>Shanghai</td>\n",
       "      <td>China</td>\n",
       "      <td>24256800</td>\n",
       "      <td>https://en.wikipedia.org/wiki/Shanghai</td>\n",
       "      <td>31.228611</td>\n",
       "      <td>121.474722</td>\n",
       "    </tr>\n",
       "    <tr>\n",
       "      <th>2</th>\n",
       "      <td>Delhi</td>\n",
       "      <td>India</td>\n",
       "      <td>11034555</td>\n",
       "      <td>https://en.wikipedia.org/wiki/Delhi</td>\n",
       "      <td>28.610000</td>\n",
       "      <td>77.230000</td>\n",
       "    </tr>\n",
       "    <tr>\n",
       "      <th>3</th>\n",
       "      <td>Beijing</td>\n",
       "      <td>China</td>\n",
       "      <td>21516000</td>\n",
       "      <td>https://en.wikipedia.org/wiki/Beijing</td>\n",
       "      <td>39.916667</td>\n",
       "      <td>116.383333</td>\n",
       "    </tr>\n",
       "    <tr>\n",
       "      <th>4</th>\n",
       "      <td>Dhaka</td>\n",
       "      <td>Bangladesh</td>\n",
       "      <td>14399000</td>\n",
       "      <td>https://en.wikipedia.org/wiki/Dhaka</td>\n",
       "      <td>23.716111</td>\n",
       "      <td>90.396111</td>\n",
       "    </tr>\n",
       "  </tbody>\n",
       "</table>\n",
       "</div>"
      ],
      "text/plain": [
       "        City      Nation Population                                      URL  \\\n",
       "0  Chongqing       China   30751600  https://en.wikipedia.org/wiki/Chongqing   \n",
       "1   Shanghai       China   24256800   https://en.wikipedia.org/wiki/Shanghai   \n",
       "2      Delhi       India   11034555      https://en.wikipedia.org/wiki/Delhi   \n",
       "3    Beijing       China   21516000    https://en.wikipedia.org/wiki/Beijing   \n",
       "4      Dhaka  Bangladesh   14399000      https://en.wikipedia.org/wiki/Dhaka   \n",
       "\n",
       "    Latitude   Longitude  \n",
       "0  29.558333  106.566667  \n",
       "1  31.228611  121.474722  \n",
       "2  28.610000   77.230000  \n",
       "3  39.916667  116.383333  \n",
       "4  23.716111   90.396111  "
      ]
     },
     "execution_count": 3,
     "metadata": {},
     "output_type": "execute_result"
    }
   ],
   "source": [
    "df_cities = pd.read_pickle('cities.pickle')\n",
    "df_cities.head()"
   ]
  },
  {
   "cell_type": "markdown",
   "metadata": {},
   "source": [
    "This dataframe contains a long list of the top pick venues according to Foursquare in those cities "
   ]
  },
  {
   "cell_type": "code",
   "execution_count": 4,
   "metadata": {},
   "outputs": [
    {
     "data": {
      "text/html": [
       "<div>\n",
       "<style scoped>\n",
       "    .dataframe tbody tr th:only-of-type {\n",
       "        vertical-align: middle;\n",
       "    }\n",
       "\n",
       "    .dataframe tbody tr th {\n",
       "        vertical-align: top;\n",
       "    }\n",
       "\n",
       "    .dataframe thead th {\n",
       "        text-align: right;\n",
       "    }\n",
       "</style>\n",
       "<table border=\"1\" class=\"dataframe\">\n",
       "  <thead>\n",
       "    <tr style=\"text-align: right;\">\n",
       "      <th></th>\n",
       "      <th>City</th>\n",
       "      <th>Venue</th>\n",
       "      <th>Venue Latitude</th>\n",
       "      <th>Venue Longitude</th>\n",
       "      <th>Venue Category</th>\n",
       "    </tr>\n",
       "  </thead>\n",
       "  <tbody>\n",
       "    <tr>\n",
       "      <th>0</th>\n",
       "      <td>Chongqing</td>\n",
       "      <td>The Harp Irish Pub</td>\n",
       "      <td>29.565116</td>\n",
       "      <td>106.575310</td>\n",
       "      <td>Bar</td>\n",
       "    </tr>\n",
       "    <tr>\n",
       "      <th>1</th>\n",
       "      <td>Chongqing</td>\n",
       "      <td>重庆八一路好吃街</td>\n",
       "      <td>29.558669</td>\n",
       "      <td>106.573631</td>\n",
       "      <td>Chinese Restaurant</td>\n",
       "    </tr>\n",
       "    <tr>\n",
       "      <th>2</th>\n",
       "      <td>Chongqing</td>\n",
       "      <td>Paulaner Brauhaus</td>\n",
       "      <td>29.538571</td>\n",
       "      <td>106.557791</td>\n",
       "      <td>German Restaurant</td>\n",
       "    </tr>\n",
       "    <tr>\n",
       "      <th>3</th>\n",
       "      <td>Chongqing</td>\n",
       "      <td>重庆Muse酒吧</td>\n",
       "      <td>29.556987</td>\n",
       "      <td>106.571565</td>\n",
       "      <td>Nightclub</td>\n",
       "    </tr>\n",
       "    <tr>\n",
       "      <th>4</th>\n",
       "      <td>Chongqing</td>\n",
       "      <td>TT酒吧</td>\n",
       "      <td>29.557011</td>\n",
       "      <td>106.571404</td>\n",
       "      <td>Nightclub</td>\n",
       "    </tr>\n",
       "  </tbody>\n",
       "</table>\n",
       "</div>"
      ],
      "text/plain": [
       "        City               Venue  Venue Latitude  Venue Longitude  \\\n",
       "0  Chongqing  The Harp Irish Pub       29.565116       106.575310   \n",
       "1  Chongqing            重庆八一路好吃街       29.558669       106.573631   \n",
       "2  Chongqing   Paulaner Brauhaus       29.538571       106.557791   \n",
       "3  Chongqing            重庆Muse酒吧       29.556987       106.571565   \n",
       "4  Chongqing                TT酒吧       29.557011       106.571404   \n",
       "\n",
       "       Venue Category  \n",
       "0                 Bar  \n",
       "1  Chinese Restaurant  \n",
       "2   German Restaurant  \n",
       "3           Nightclub  \n",
       "4           Nightclub  "
      ]
     },
     "execution_count": 4,
     "metadata": {},
     "output_type": "execute_result"
    }
   ],
   "source": [
    "df_venues = pd.read_pickle('venues.pickle')\n",
    "df_venues.head()"
   ]
  },
  {
   "cell_type": "markdown",
   "metadata": {},
   "source": [
    "This dataframe contains a left join of the previous two"
   ]
  },
  {
   "cell_type": "code",
   "execution_count": 5,
   "metadata": {},
   "outputs": [
    {
     "data": {
      "text/html": [
       "<div>\n",
       "<style scoped>\n",
       "    .dataframe tbody tr th:only-of-type {\n",
       "        vertical-align: middle;\n",
       "    }\n",
       "\n",
       "    .dataframe tbody tr th {\n",
       "        vertical-align: top;\n",
       "    }\n",
       "\n",
       "    .dataframe thead th {\n",
       "        text-align: right;\n",
       "    }\n",
       "</style>\n",
       "<table border=\"1\" class=\"dataframe\">\n",
       "  <thead>\n",
       "    <tr style=\"text-align: right;\">\n",
       "      <th></th>\n",
       "      <th>City</th>\n",
       "      <th>Venue</th>\n",
       "      <th>Venue Latitude</th>\n",
       "      <th>Venue Longitude</th>\n",
       "      <th>Venue Category</th>\n",
       "      <th>Nation</th>\n",
       "      <th>Population</th>\n",
       "      <th>URL</th>\n",
       "      <th>Latitude</th>\n",
       "      <th>Longitude</th>\n",
       "    </tr>\n",
       "  </thead>\n",
       "  <tbody>\n",
       "    <tr>\n",
       "      <th>0</th>\n",
       "      <td>Chongqing</td>\n",
       "      <td>The Harp Irish Pub</td>\n",
       "      <td>29.565116</td>\n",
       "      <td>106.575310</td>\n",
       "      <td>Bar</td>\n",
       "      <td>China</td>\n",
       "      <td>30751600</td>\n",
       "      <td>https://en.wikipedia.org/wiki/Chongqing</td>\n",
       "      <td>29.558333</td>\n",
       "      <td>106.566667</td>\n",
       "    </tr>\n",
       "    <tr>\n",
       "      <th>1</th>\n",
       "      <td>Chongqing</td>\n",
       "      <td>重庆八一路好吃街</td>\n",
       "      <td>29.558669</td>\n",
       "      <td>106.573631</td>\n",
       "      <td>Chinese Restaurant</td>\n",
       "      <td>China</td>\n",
       "      <td>30751600</td>\n",
       "      <td>https://en.wikipedia.org/wiki/Chongqing</td>\n",
       "      <td>29.558333</td>\n",
       "      <td>106.566667</td>\n",
       "    </tr>\n",
       "    <tr>\n",
       "      <th>2</th>\n",
       "      <td>Chongqing</td>\n",
       "      <td>Paulaner Brauhaus</td>\n",
       "      <td>29.538571</td>\n",
       "      <td>106.557791</td>\n",
       "      <td>German Restaurant</td>\n",
       "      <td>China</td>\n",
       "      <td>30751600</td>\n",
       "      <td>https://en.wikipedia.org/wiki/Chongqing</td>\n",
       "      <td>29.558333</td>\n",
       "      <td>106.566667</td>\n",
       "    </tr>\n",
       "    <tr>\n",
       "      <th>3</th>\n",
       "      <td>Chongqing</td>\n",
       "      <td>重庆Muse酒吧</td>\n",
       "      <td>29.556987</td>\n",
       "      <td>106.571565</td>\n",
       "      <td>Nightclub</td>\n",
       "      <td>China</td>\n",
       "      <td>30751600</td>\n",
       "      <td>https://en.wikipedia.org/wiki/Chongqing</td>\n",
       "      <td>29.558333</td>\n",
       "      <td>106.566667</td>\n",
       "    </tr>\n",
       "    <tr>\n",
       "      <th>4</th>\n",
       "      <td>Chongqing</td>\n",
       "      <td>TT酒吧</td>\n",
       "      <td>29.557011</td>\n",
       "      <td>106.571404</td>\n",
       "      <td>Nightclub</td>\n",
       "      <td>China</td>\n",
       "      <td>30751600</td>\n",
       "      <td>https://en.wikipedia.org/wiki/Chongqing</td>\n",
       "      <td>29.558333</td>\n",
       "      <td>106.566667</td>\n",
       "    </tr>\n",
       "  </tbody>\n",
       "</table>\n",
       "</div>"
      ],
      "text/plain": [
       "        City               Venue  Venue Latitude  Venue Longitude  \\\n",
       "0  Chongqing  The Harp Irish Pub       29.565116       106.575310   \n",
       "1  Chongqing            重庆八一路好吃街       29.558669       106.573631   \n",
       "2  Chongqing   Paulaner Brauhaus       29.538571       106.557791   \n",
       "3  Chongqing            重庆Muse酒吧       29.556987       106.571565   \n",
       "4  Chongqing                TT酒吧       29.557011       106.571404   \n",
       "\n",
       "       Venue Category Nation Population  \\\n",
       "0                 Bar  China   30751600   \n",
       "1  Chinese Restaurant  China   30751600   \n",
       "2   German Restaurant  China   30751600   \n",
       "3           Nightclub  China   30751600   \n",
       "4           Nightclub  China   30751600   \n",
       "\n",
       "                                       URL   Latitude   Longitude  \n",
       "0  https://en.wikipedia.org/wiki/Chongqing  29.558333  106.566667  \n",
       "1  https://en.wikipedia.org/wiki/Chongqing  29.558333  106.566667  \n",
       "2  https://en.wikipedia.org/wiki/Chongqing  29.558333  106.566667  \n",
       "3  https://en.wikipedia.org/wiki/Chongqing  29.558333  106.566667  \n",
       "4  https://en.wikipedia.org/wiki/Chongqing  29.558333  106.566667  "
      ]
     },
     "execution_count": 5,
     "metadata": {},
     "output_type": "execute_result"
    }
   ],
   "source": [
    "df_joined = pd.read_pickle('joined.pickle')\n",
    "df_joined.head()"
   ]
  },
  {
   "cell_type": "code",
   "execution_count": null,
   "metadata": {},
   "outputs": [],
   "source": []
  }
 ],
 "metadata": {
  "kernelspec": {
   "display_name": "Python 3",
   "language": "python",
   "name": "python3"
  },
  "language_info": {
   "codemirror_mode": {
    "name": "ipython",
    "version": 3
   },
   "file_extension": ".py",
   "mimetype": "text/x-python",
   "name": "python",
   "nbconvert_exporter": "python",
   "pygments_lexer": "ipython3",
   "version": "3.7.0"
  }
 },
 "nbformat": 4,
 "nbformat_minor": 2
}
